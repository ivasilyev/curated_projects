{
 "cells": [
  {
   "cell_type": "code",
   "execution_count": 1,
   "metadata": {
    "collapsed": true,
    "pycharm": {
     "is_executing": false
    }
   },
   "outputs": [],
   "source": [
    "import os\n",
    "import re\n",
    "import skbio\n",
    "import numpy as np\n",
    "import pandas as pd\n",
    "import xlrd\n",
    "import seaborn as sns\n",
    "from scipy import stats\n",
    "import matplotlib as mpl\n",
    "from scipy.spatial import distance\n",
    "from matplotlib import pyplot as plt\n",
    "from meta.scripts.Utilities import Utilities"
   ]
  },
  {
   "cell_type": "code",
   "execution_count": 2,
   "outputs": [],
   "source": [
    "def process_sample_number(s: str):\n",
    "    d = dict()\n",
    "    d[\"sample_number\"], group_code = [i.strip() for i in s.split(\"/\")]\n",
    "    if group_code[0] == \"В\":\n",
    "        d[\"age\"] = \"adult\"\n",
    "    if group_code[1] == \"О\":\n",
    "        d[\"group\"] = \"obesity\"\n",
    "    elif group_code[1] == \"З\":\n",
    "        d[\"group\"] = \"normal\"\n",
    "    return pd.Series(d)\n",
    "\n",
    "\n",
    "def fix_exponentials(s: str):\n",
    "    s = str(s).strip().lower().replace(\",\", \".\")\n",
    "    try:\n",
    "        return float(s)\n",
    "    except ValueError:\n",
    "        base, power = [float(i) for i in re.split(\"[^0-9.]+\", s)]\n",
    "        f = base * (10 ** power)\n",
    "        if \"-\" in s:\n",
    "            f = base / (10 ** power)\n",
    "        return f\n",
    "\n",
    "\n",
    "def get_statistical_test_series(two_dim_array: list, func=stats.mannwhitneyu, alpha: float = 0.05):\n",
    "    # Use with the 'stats' package only!\n",
    "    p_value = 1\n",
    "    if sum(map(sum, two_dim_array)) > 0:\n",
    "        p_value = func(*two_dim_array).__getattribute__(\"pvalue\")\n",
    "    d = dict(p_value=p_value, is_significant_for_single_comparison=p_value < alpha)\n",
    "    return pd.Series(d)\n",
    "\n",
    "\n",
    "def safe_capitalize(s: str):\n",
    "    if len(s) < 2:\n",
    "        return s.upper()\n",
    "    return \"\".join([s[0].upper(), s[1:]])\n"
   ],
   "metadata": {
    "collapsed": false,
    "pycharm": {
     "name": "#%%\n",
     "is_executing": false
    }
   }
  },
  {
   "cell_type": "code",
   "source": [
    "PROJECT_DIR = \"/data1/bio/projects/ashestopalov/nutrition/obesity_elisa\"\n",
    "COMMON_CLINICAL_DATA_COL_NAMES = {\n",
    "    \"имт\": \"Body Mass Index\", \"от\": \"Waist Circumference\", \"глюкоза\": \"Glucose\", \n",
    "    \"лпвп\": \"High-Density Lipoproteins\", \"тг\": \"Thyroglobulin\", \n",
    "    \"ох\": \"Total Blood Cholesterol\", \"лпнп\": \"Low-Density Lipoproteins\", \n",
    "    \"сад\": \"Systolic Blood Pressure\", \"дад\": \"Diastolic Blood Pressure\"\n",
    "}\n",
    "CORRELATION_TITLE_TEMPLATE = \"Correlation between {} for {}\"\n",
    "PAIRPLOT_TITLE_TEMPLATE = \"Pair plot for {} for {}\"\n",
    "\n",
    "raw_data_dir = os.path.join(PROJECT_DIR, \"raw\")\n",
    "correlation_dir = os.path.join(PROJECT_DIR, \"correlation\")\n",
    "otu_dir = os.path.join(PROJECT_DIR, \"otu\")\n",
    "\n",
    "whole_raw_df = pd.DataFrame()\n",
    "for raw_table_file in Utilities.scan_whole_dir(raw_data_dir):\n",
    "    if \"obschaya\" in raw_table_file and \"kontrol'\" not in raw_table_file:\n",
    "        continue\n",
    "    raw_table_df = pd.read_excel(raw_table_file, encoding=\"utf-8\").dropna(axis=0, how=\"all\").dropna(\n",
    "        axis=1, how=\"all\")\n",
    "    raw_table_df = raw_table_df.rename(columns={\"охс\": \"ох\"}).rename(\n",
    "        columns=COMMON_CLINICAL_DATA_COL_NAMES)\n",
    "    raw_table_df = pd.concat([raw_table_df, raw_table_df[\"№ образца\"].apply(process_sample_number)],\n",
    "                             axis=1, sort=False)\n",
    "    if \"MZO\" in raw_table_file:\n",
    "        raw_table_df[\"subgroup\"] = \"metabolically-healthy_obesity\"\n",
    "    elif \"MNZ\" in raw_table_file:\n",
    "        raw_table_df[\"subgroup\"] = \"metabolically-pathological_obesity\"\n",
    "    elif \"wzroslye s ozhireniem'\" in raw_table_file:\n",
    "        raw_table_df[\"group\"] = \"obesity\"\n",
    "    elif \"kontrol'\" in raw_table_file:\n",
    "        raw_table_df[\"group\"] = \"normal\"\n",
    "    raw_table_df[\"sex\"] = raw_table_df[\"пол\"].apply(\n",
    "        lambda x: [\"male\", \"female\"][x.strip().lower() == \"ж\"])\n",
    "    raw_table_df[\"patient_id\"] = raw_table_df[\"sample_number\"].str.lower().replace(\n",
    "        '[\"b]+', \"\", regex=True)\n",
    "    raw_table_df = raw_table_df.set_index(\"sample_number\")\n",
    "    whole_raw_df = pd.concat([whole_raw_df, raw_table_df], axis=0, sort=False).rename_axis(\n",
    "        index=\"sample_number\", columns=\"values\")\n",
    "    \n",
    "\n",
    "raw_clinical_data_col_names = sorted(COMMON_CLINICAL_DATA_COL_NAMES.values())\n",
    "raw_multiplex_data_col_names = [i for i in whole_raw_df.columns if i[0].isupper()]\n",
    "raw_value_col_names = raw_multiplex_data_col_names + raw_clinical_data_col_names\n",
    "\n",
    "whole_raw_df.loc[:, raw_value_col_names] = whole_raw_df.loc[:, raw_value_col_names].replace(\n",
    "    [np.inf,-np.inf], np.nan).applymap(fix_exponentials)\n",
    "whole_raw_df.drop(columns=[i for i in whole_raw_df.columns if len(re.findall(\n",
    "    \"^[a-z]\", i.lower())) == 0], inplace=True)\n",
    "\n",
    "group_names = sorted(set(whole_raw_df[\"group\"].values))\n",
    "obesity_subgroup_names = sorted(set(whole_raw_df[\"subgroup\"].dropna().values))"
   ],
   "metadata": {
    "collapsed": false,
    "pycharm": {
     "name": "#%%\n",
     "is_executing": false
    }
   },
   "execution_count": 3,
   "outputs": []
  },
  {
   "cell_type": "code",
   "execution_count": 4,
   "outputs": [],
   "source": [
    "def drop_static_entries(df: pd.DataFrame(), axis: int = 1):\n",
    "    d = df.std(axis=int(not bool(axis))).to_dict()\n",
    "    static_axis = [k for k in d.keys() if d[k] == 0]\n",
    "    return df.drop(static_axis, axis=axis)\n",
    "\n",
    "def prepare_df(data: pd.DataFrame, value_col_names: list):\n",
    "    common_col_names = data.columns\n",
    "    if len(value_col_names) > 0:\n",
    "        common_col_names = np.intersect1d(data.columns, value_col_names)\n",
    "    numeric_columns = data.select_dtypes(include=np.number).columns\n",
    "    out = drop_static_entries(\n",
    "        data.loc[:, np.intersect1d(numeric_columns, common_col_names)].fillna(0))\n",
    "    return out\n",
    "\n",
    "def export_plot(basename: str):\n",
    "    plt.tight_layout()\n",
    "    os.makedirs(os.path.dirname(basename), exist_ok=True)\n",
    "    plt.savefig(\"{}.pdf\".format(basename), dpi=600)\n",
    "    mpl.rcParams.update(mpl.rcParamsDefault)\n",
    "    plt.clf()\n",
    "    plt.close()\n",
    "\n",
    "def build_clustermap(data: pd.DataFrame, title: str, out_dir: str, value_col_names: list = ()):\n",
    "    export_prefix = os.path.join(out_dir, title)\n",
    "    _data = prepare_df(data, value_col_names)\n",
    "    correlation_df = _data.corr(method=\"spearman\")\n",
    "    Utilities.dump_tsv(correlation_df, \"{}.tsv\".format(export_prefix))\n",
    "    plt.rcParams[\"figure.figsize\"] = (10, 10)\n",
    "    sns.set()\n",
    "    _ = sns.clustermap(correlation_df, metric=\"cityblock\", cmap=\"Spectral_r\").fig.suptitle(\n",
    "        title, fontsize=10,y=0.995) \n",
    "    export_plot(export_prefix)\n",
    "\n",
    "def build_pairplot(data: pd.DataFrame, title: str, out_dir: str, value_col_names: list = ()):\n",
    "    export_prefix = os.path.join(out_dir, title)\n",
    "    _data = prepare_df(data, value_col_names)\n",
    "    Utilities.dump_tsv(_data, \"{}.tsv\".format(export_prefix))\n",
    "    plt.rcParams[\"figure.figsize\"] = (20, 20)  \n",
    "    sns.set()\n",
    "    _ = sns.pairplot(data=_data, kind=\"reg\", vars=_data.columns).fig.suptitle(\n",
    "        title, fontsize=10, y=0.997)\n",
    "    export_plot(export_prefix)"
   ],
   "metadata": {
    "collapsed": false,
    "pycharm": {
     "name": "#%%\n",
     "is_executing": false
    }
   }
  },
  {
   "cell_type": "code",
   "execution_count": 5,
   "outputs": [],
   "source": [
    "# Boilerplate1\n",
    "# Build clinical - ELISA data correlation\n",
    "data_prefix = \"clinical and ELISA data\"\n",
    "for group_name in group_names:\n",
    "    group_df = whole_raw_df.query(\"group == '{}'\".format(group_name)).rename_axis(\n",
    "        columns=safe_capitalize(data_prefix))\n",
    "    build_clustermap(data=group_df, value_col_names=raw_value_col_names, out_dir=correlation_dir, \n",
    "                     title=CORRELATION_TITLE_TEMPLATE.format(data_prefix, group_name))\n",
    "    build_pairplot(data=group_df, value_col_names=raw_value_col_names, out_dir=correlation_dir, \n",
    "                   title=PAIRPLOT_TITLE_TEMPLATE.format(data_prefix, group_name))\n",
    "\n",
    "for obesity_subgroup_name in obesity_subgroup_names:\n",
    "    obesity_subgroup_df = whole_raw_df.query(\n",
    "        \"subgroup == '{}'\".format(obesity_subgroup_name)).rename_axis(\n",
    "        columns=safe_capitalize(data_prefix))\n",
    "    build_clustermap(data=obesity_subgroup_df, value_col_names=raw_value_col_names, \n",
    "                     out_dir=correlation_dir, \n",
    "                     title=CORRELATION_TITLE_TEMPLATE.format(data_prefix, obesity_subgroup_name))\n",
    "    build_pairplot(data=obesity_subgroup_df, value_col_names=raw_value_col_names, \n",
    "                   out_dir=correlation_dir, \n",
    "                   title=PAIRPLOT_TITLE_TEMPLATE.format(data_prefix, obesity_subgroup_name))"
   ],
   "metadata": {
    "collapsed": false,
    "pycharm": {
     "name": "#%%\n",
     "is_executing": false
    }
   }
  },
  {
   "cell_type": "code",
   "execution_count": 6,
   "outputs": [],
   "source": [
    "# Download trees from 'ftp://greengenes.microbio.me/greengenes_release/gg_13_5/gg_13_8_otus.tar.gz'\n",
    "otu_97_tree = skbio.TreeNode.read(os.path.join(otu_dir, \"97_otus.tree\"), verify=True)\n",
    "otu_97_annotation_df = pd.read_csv(os.path.join(otu_dir, \"97_otu_taxonomy.txt\"), header=\"infer\", \n",
    "                                   names=[\"id\", \"taxon\"], sep=\"\\t\")\n",
    "otu_97_annotation_df.loc[:, \"id\"] = otu_97_annotation_df[\"id\"].astype(str)\n",
    "otu_97_annotation_df.set_index(\"id\", inplace=True)\n",
    "otu_97_annotation_dict = {re.sub(\";([ ]+)\", \";\", i): j for i, j in zip(\n",
    "    otu_97_annotation_df[\"taxon\"],otu_97_annotation_df.index.values)}\n",
    "\n",
    "# Assign tree node length even for roots    \n",
    "otu_97_tree_node_names = [i.name for i in otu_97_tree.postorder()]\n",
    "for otu_97_node in otu_97_tree.postorder():\n",
    "    if otu_97_node.length is None:\n",
    "        otu_97_node.length = 0.0"
   ],
   "metadata": {
    "collapsed": false,
    "pycharm": {
     "name": "#%%\n",
     "is_executing": false
    }
   }
  },
  {
   "cell_type": "code",
   "execution_count": 7,
   "outputs": [],
   "source": [
    "def fit_df_to_tree(df: pd.DataFrame):\n",
    "    df = df.rename(columns=otu_97_annotation_dict).fillna(0)\n",
    "    sub_df = df.drop([i for i in df.columns if i not in otu_97_tree_node_names], axis=1)\n",
    "    return sub_df\n",
    "\n",
    "def mp_count_faith_pd(series: pd.Series):\n",
    "    x = skbio.diversity.alpha.faith_pd(series.values, series.index.values, otu_97_tree)\n",
    "    return pd.Series({\"Faith Diversity\": x, \"patient_id\": series.name})"
   ],
   "metadata": {
    "collapsed": false,
    "pycharm": {
     "name": "#%%\n",
     "is_executing": false
    }
   }
  },
  {
   "cell_type": "code",
   "source": [
    "TAXONOMIC_RANKS = [\"Phyla\", \"Class\", \"Order\", \"Order\", \"Genus\", \"Species\"]\n",
    "\n",
    "raw_stool_otu_df = pd.read_excel(os.path.join(otu_dir, \"Results_Rogachev_stool_final.xlsx\"), \n",
    "                                 encoding=\"utf-8\", sheet_name=TAXONOMIC_RANKS[-1], \n",
    "                                 index_col='#OTU ID\"')\n",
    "raw_blood_otu_df = pd.read_excel(os.path.join(otu_dir, \"Results_16s_Rogachev_blood_291219.xlsx\"), \n",
    "                                 encoding=\"utf-8\", sheet_name=TAXONOMIC_RANKS[-1].lower(), \n",
    "                                 index_col=\"#OTU ID\")"
   ],
   "metadata": {
    "collapsed": false,
    "pycharm": {
     "name": "#%%\n",
     "is_executing": false
    }
   },
   "execution_count": 8,
   "outputs": []
  },
  {
   "cell_type": "code",
   "execution_count": 9,
   "outputs": [],
   "source": [
    "class OTUDataKeeper:\n",
    "    def __init__(self, name: str, df=pd.DataFrame()):\n",
    "        self.name = name\n",
    "        self.otu_df = df.fillna(0)\n",
    "        self.alpha_diversity_metric_df = pd.DataFrame()\n",
    "\n",
    "    def count_alpha_diversity_metrics(self):\n",
    "        from skbio.diversity import alpha as a\n",
    "        _FUNCTIONS = {\"Distinct OTUs\": a.observed_otus, \"Shannon Entropy\": a.shannon, \n",
    "                      \"Berger-Parker Dominance\": a.berger_parker_d, \"Chao1 Richness\": a.chao1, \n",
    "                      \"Simpson Index\": a.simpson}\n",
    "        assert self.otu_df.shape[1] > 0\n",
    "        # Without tree fit\n",
    "        alpha_df = pd.concat([self.otu_df.apply(_FUNCTIONS[k], axis=1).rename(k) \n",
    "                              for k in _FUNCTIONS], axis=1, sort=False)\n",
    "        alpha_df[\"Inverse Simpson Index\"] = 1.0 / alpha_df[\"Simpson Index\"]\n",
    "        alpha_df[\"Gini–Simpson Index\"] = 1.0 - alpha_df[\"Simpson Index\"]\n",
    "        # With tree fit\n",
    "        otu_tree_df = fit_df_to_tree(self.otu_df)\n",
    "        otu_tree_row_series = [otu_tree_df.loc[i, :] for i in otu_tree_df.index.values]\n",
    "        faith_pd_series = Utilities.multi_core_queue(mp_count_faith_pd, otu_tree_row_series)\n",
    "        otu_faith_pd_df = pd.DataFrame(faith_pd_series).set_index(\"patient_id\")\n",
    "        self.alpha_diversity_metric_df = pd.concat(\n",
    "            [alpha_df, otu_faith_pd_df], axis=1, sort=False).rename_axis(\n",
    "            index=\"patient_id\", columns=\"alpha_diversity_metrics\")\n",
    "\n",
    "    def __repr__(self):\n",
    "        return \"OTUDataKeeper with name '{}', {} rows and {} columns\".format(\n",
    "            self.name, *self.otu_df.shape)"
   ],
   "metadata": {
    "collapsed": false,
    "pycharm": {
     "name": "#%%\n",
     "is_executing": false
    }
   }
  },
  {
   "cell_type": "code",
   "execution_count": 10,
   "outputs": [],
   "source": [
    "keepers = []\n",
    "for raw_otu_df, raw_otu_name in zip([raw_stool_otu_df, raw_blood_otu_df], [\"blood\", \"stool\"]):\n",
    "    otu_df = raw_otu_df.rename(columns={'\"465x\"': \"465\", '\"715x\"': \"715\"}).transpose().rename_axis(\n",
    "            index=\"sample_name\", columns=\"OTU\").reset_index()\n",
    "    otu_df[\"patient_id\"] = otu_df[\"sample_name\"].str.lower().replace('[\"b]+', \"\", regex=True)\n",
    "    otu_df = otu_df.set_index(\"patient_id\").drop(\"sample_name\", axis=1)\n",
    "    common_with_clinical_data_otu_df = otu_df.loc[np.intersect1d(*[i.index.values for i in (\n",
    "        whole_raw_df, otu_df)])]\n",
    "    keeper = OTUDataKeeper(name=raw_otu_name, df=common_with_clinical_data_otu_df)\n",
    "    keeper.count_alpha_diversity_metrics()\n",
    "    keepers.append(keeper)"
   ],
   "metadata": {
    "collapsed": false,
    "pycharm": {
     "name": "#%%\n",
     "is_executing": false
    }
   }
  },
  {
   "cell_type": "code",
   "execution_count": 11,
   "outputs": [],
   "source": [
    "common_with_both_samples_patient_ids = np.intersect1d(*[j.index.values for j in \n",
    "                                                        [i.otu_df for i in keepers]])\n",
    "common_with_both_samples_otu_df = pd.DataFrame()\n",
    "for keeper in keepers:\n",
    "    otu_df = keeper.otu_df.loc[common_with_both_samples_patient_ids, :].reset_index()\n",
    "    otu_df[\"sample_source\"] = keeper.name\n",
    "    common_with_both_samples_otu_df = pd.concat([common_with_both_samples_otu_df, otu_df], axis=0, \n",
    "                                                join=\"outer\", ignore_index=True, sort=False)\n",
    "\n",
    "common_with_both_samples_otu_df = common_with_both_samples_otu_df.set_index(\n",
    "    [\"patient_id\", \"sample_source\"]).rename_axis(columns=\"OTU\")\n",
    "assert len([i for i in common_with_both_samples_otu_df if not i.lower().startswith(\"k__\")]) == 1"
   ],
   "metadata": {
    "collapsed": false,
    "pycharm": {
     "name": "#%%\n",
     "is_executing": false
    }
   }
  },
  {
   "cell_type": "code",
   "execution_count": 12,
   "outputs": [],
   "source": [
    "def mp_count_beta_diversity(patient_id):\n",
    "    beta_diversity_metrics = dict(patient_id=patient_id)\n",
    "    # Without tree fit\n",
    "    common_with_both_samples_otu_sub_df = common_with_both_samples_otu_df.loc[patient_id].fillna(0)\n",
    "    otu_values_2d_array = common_with_both_samples_otu_sub_df.values\n",
    "    beta_diversity_metrics[\"Manhattan Distance\"] = distance.cityblock(*otu_values_2d_array)\n",
    "    beta_diversity_metrics[\"Bray-Curtis Distance\"] = distance.braycurtis(*otu_values_2d_array)\n",
    "    beta_diversity_metrics[\"Jaccard Distance\"] = distance.jaccard(*otu_values_2d_array)\n",
    "    # With tree fit\n",
    "    common_with_both_samples_otu_tree_sub_df = fit_df_to_tree(common_with_both_samples_otu_sub_df)\n",
    "    otu_values_tree_2d_array = common_with_both_samples_otu_tree_sub_df.values\n",
    "    beta_diversity_metrics[\"Unweighted UniFrac\"] = skbio.diversity.beta.unweighted_unifrac(\n",
    "        *otu_values_tree_2d_array, common_with_both_samples_otu_tree_sub_df.columns, otu_97_tree)\n",
    "    beta_diversity_metrics[\"Weighted UniFrac\"] = skbio.diversity.beta.weighted_unifrac(\n",
    "        *otu_values_tree_2d_array, common_with_both_samples_otu_tree_sub_df.columns, otu_97_tree)\n",
    "    return pd.Series(beta_diversity_metrics)"
   ],
   "metadata": {
    "collapsed": false,
    "pycharm": {
     "name": "#%%\n",
     "is_executing": false
    }
   }
  },
  {
   "cell_type": "code",
   "execution_count": 13,
   "outputs": [],
   "source": [
    "beta_diversity_series = Utilities.multi_core_queue(mp_count_beta_diversity, \n",
    "                                                   common_with_both_samples_patient_ids)\n",
    "beta_diversity_df = pd.DataFrame(beta_diversity_series).set_index(\"patient_id\").rename_axis(\n",
    "    columns=\"beta_diversity_metrics\")"
   ],
   "metadata": {
    "collapsed": false,
    "pycharm": {
     "name": "#%%\n",
     "is_executing": false
    }
   }
  },
  {
   "cell_type": "code",
   "execution_count": 14,
   "outputs": [],
   "source": [
    "keeper = [i for i in keepers if i.name == \"stool\"][0]\n",
    "total_diversity_df = pd.concat([beta_diversity_df, keeper.alpha_diversity_metric_df], axis=1, \n",
    "                               join=\"inner\", sort=False)"
   ],
   "metadata": {
    "collapsed": false,
    "pycharm": {
     "name": "#%%\n",
     "is_executing": false
    }
   }
  },
  {
   "cell_type": "code",
   "execution_count": 15,
   "outputs": [],
   "source": [
    "# Boilerplate1\n",
    "# Build diversity - clinical - ELISA data correlation\n",
    "data_prefix = \"clinical, ELISA and diversity data\"\n",
    "for group_name in group_names:\n",
    "    group_df = whole_raw_df.query(\"group == '{}'\".format(group_name))\n",
    "    merged_df = pd.concat([group_df.set_index(\"patient_id\"), total_diversity_df], \n",
    "                          axis=1, join=\"inner\", sort=False).rename_axis(\n",
    "        columns=safe_capitalize(data_prefix))\n",
    "    build_clustermap(data=merged_df, out_dir=correlation_dir, \n",
    "                     title=CORRELATION_TITLE_TEMPLATE.format(data_prefix, group_name))\n",
    "    build_pairplot(data=merged_df, out_dir=correlation_dir, \n",
    "                   title=PAIRPLOT_TITLE_TEMPLATE.format(data_prefix, group_name))\n",
    "\n",
    "for obesity_subgroup_name in obesity_subgroup_names:\n",
    "    obesity_subgroup_df = whole_raw_df.query(\"subgroup == '{}'\".format(obesity_subgroup_name))\n",
    "    merged_df = pd.concat([obesity_subgroup_df.set_index(\"patient_id\"), total_diversity_df], \n",
    "                      axis=1, join=\"inner\", sort=False).rename_axis(\n",
    "        columns=safe_capitalize(data_prefix))\n",
    "    build_clustermap(data=merged_df, out_dir=correlation_dir, \n",
    "                     title=CORRELATION_TITLE_TEMPLATE.format(data_prefix, obesity_subgroup_name))\n",
    "    build_pairplot(data=merged_df, out_dir=correlation_dir, \n",
    "                   title=PAIRPLOT_TITLE_TEMPLATE.format(data_prefix, obesity_subgroup_name))"
   ],
   "metadata": {
    "collapsed": false,
    "pycharm": {
     "name": "#%%\n",
     "is_executing": false
    }
   }
  }
 ],
 "metadata": {
  "kernelspec": {
   "display_name": "Python 3",
   "language": "python",
   "name": "python3"
  },
  "language_info": {
   "codemirror_mode": {
    "name": "ipython",
    "version": 2
   },
   "file_extension": ".py",
   "mimetype": "text/x-python",
   "name": "python",
   "nbconvert_exporter": "python",
   "pygments_lexer": "ipython2",
   "version": "2.7.6"
  },
  "pycharm": {
   "stem_cell": {
    "cell_type": "raw",
    "source": [],
    "metadata": {
     "collapsed": false
    }
   }
  }
 },
 "nbformat": 4,
 "nbformat_minor": 0
}