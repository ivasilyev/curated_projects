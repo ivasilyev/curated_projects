{
 "cells": [
  {
   "cell_type": "code",
   "execution_count": 1,
   "metadata": {
    "collapsed": true,
    "pycharm": {
     "is_executing": false
    }
   },
   "outputs": [],
   "source": [
    "import os\n",
    "import re\n",
    "import numpy as np\n",
    "import pandas as pd\n",
    "import xlrd\n",
    "import seaborn as sns\n",
    "from scipy import stats\n",
    "from matplotlib import pyplot as plt\n",
    "from meta.scripts.Utilities import Utilities"
   ]
  },
  {
   "cell_type": "code",
   "execution_count": 2,
   "outputs": [],
   "source": [
    "def process_sample_number(s: str):\n",
    "    d = dict()\n",
    "    d[\"sample_number\"], group_code = [i.strip() for i in s.split(\"/\")]\n",
    "    if group_code[0] == \"В\":\n",
    "        d[\"age\"] = \"adult\"\n",
    "    if group_code[1] == \"О\":\n",
    "        d[\"group\"] = \"obesity\"\n",
    "    elif group_code[1] == \"З\":\n",
    "        d[\"group\"] = \"normal\"\n",
    "    return pd.Series(d)\n",
    "\n",
    "\n",
    "def fix_exponentials(s: str):\n",
    "    s = str(s).strip().lower().replace(\",\", \".\")\n",
    "    try:\n",
    "        return float(s)\n",
    "    except ValueError:\n",
    "        base, power = [float(i) for i in re.split(\"[^0-9.]+\", s)]\n",
    "        f = base * (10 ** power)\n",
    "        if \"-\" in s:\n",
    "            f = base / (10 ** power)\n",
    "        return f\n",
    "\n",
    "\n",
    "def get_statistical_test_series(two_dim_array: list, func=stats.mannwhitneyu, alpha: float = 0.05):\n",
    "    # Use with the 'stats' package only!\n",
    "    p_value = 1\n",
    "    if sum(map(sum, two_dim_array)) > 0:\n",
    "        p_value = func(*two_dim_array).__getattribute__(\"pvalue\")\n",
    "    d = dict(p_value=p_value, is_significant_for_single_comparison=p_value < alpha)\n",
    "    return pd.Series(d)"
   ],
   "metadata": {
    "collapsed": false,
    "pycharm": {
     "name": "#%%\n",
     "is_executing": false
    }
   }
  },
  {
   "cell_type": "code",
   "source": [
    "PROJECT_DIR = \"/data1/bio/projects/ashestopalov/nutrition/obesity_elisa\"\n",
    "COMMON_CLINICAL_DATA_COL_NAMES = {\n",
    "    \"имт\": \"body_mass_index\", \"от\": \"waist_circumference\", \"глюкоза\": \"glucose\", \n",
    "    \"лпвп\": \"high-density_lipoproteins\", \"тг\": \"thyroglobulin\", \n",
    "    \"ох\": \"total_blood_cholesterol\", \"лпнп\": \"low-density_lipoproteins\", \n",
    "    \"сад\": \"systolic_blood_pressure\", \"дад\": \"diastolic_blood_pressure\"\n",
    "}\n",
    "raw_data_dir = os.path.join(PROJECT_DIR, \"raw\")\n",
    "correlation_dir = os.path.join(PROJECT_DIR, \"correlation\")\n",
    "\n",
    "whole_raw_df = pd.DataFrame()\n",
    "for raw_table_file in Utilities.scan_whole_dir(raw_data_dir):\n",
    "    if \"obschaya\" in raw_table_file and \"kontrol'\" not in raw_table_file:\n",
    "        continue\n",
    "    raw_table_df = pd.read_excel(raw_table_file, encoding=\"utf-8\").dropna(how=\"all\")\n",
    "    raw_table_df = raw_table_df.rename(columns={\"охс\": \"ох\"}).rename(\n",
    "        columns=COMMON_CLINICAL_DATA_COL_NAMES)\n",
    "    raw_table_df = pd.concat([raw_table_df, raw_table_df[\"№ образца\"].apply(process_sample_number)],\n",
    "                             axis=1, sort=False)\n",
    "    if \"MZO\" in raw_table_file:\n",
    "        raw_table_df[\"subgroup\"] = \"metabolically-healthy_obesity\"\n",
    "    elif \"MNZ\" in raw_table_file:\n",
    "        raw_table_df[\"subgroup\"] = \"metabolically-pathological_obesity\"\n",
    "    elif \"wzroslye s ozhireniem'\" in raw_table_file:\n",
    "        raw_table_df[\"group\"] = \"obesity\"\n",
    "    elif \"kontrol'\" in raw_table_file:\n",
    "        raw_table_df[\"group\"] = \"normal\"\n",
    "    raw_table_df[\"gender\"] = raw_table_df[\"пол\"].apply(\n",
    "        lambda x: [\"male\", \"female\"][x.strip().lower() == \"ж\"])\n",
    "    raw_table_df = raw_table_df.set_index(\"sample_number\")\n",
    "    whole_raw_df = pd.concat([whole_raw_df, raw_table_df], axis=0, sort=True).rename_axis(\n",
    "        index=\"sample_number\", columns=\"multiplex_value\")\n",
    "\n",
    "raw_clinical_data_col_names = sorted(COMMON_CLINICAL_DATA_COL_NAMES.values())\n",
    "raw_multiplex_data_col_names = [i for i in whole_raw_df.columns if i[0].isupper()]\n",
    "raw_value_col_names = raw_multiplex_data_col_names + raw_clinical_data_col_names\n",
    "\n",
    "whole_raw_df.loc[:, raw_value_col_names] = whole_raw_df.loc[:, raw_value_col_names].replace(\n",
    "    [np.inf,-np.inf], np.nan).fillna(0).applymap(fix_exponentials)\n",
    "\n",
    "group_names = sorted(set(whole_raw_df[\"group\"].values))\n",
    "obesity_subgroup_names = sorted(set(whole_raw_df[\"subgroup\"].dropna().values))"
   ],
   "metadata": {
    "collapsed": false,
    "pycharm": {
     "name": "#%%\n",
     "is_executing": false
    }
   },
   "execution_count": 3,
   "outputs": []
  },
  {
   "cell_type": "code",
   "source": [
    "def prepare_df(data: pd.DataFrame, value_col_names: list):\n",
    "    common_col_names = np.intersect1d(data.columns, value_col_names)\n",
    "    return data.loc[:, common_col_names].replace(0, np.nan, regex=True).dropna(\n",
    "        axis=1, how=\"all\").fillna(0)\n",
    "\n",
    "def export_plot(basename: str):\n",
    "    plt.tight_layout()\n",
    "    os.makedirs(os.path.dirname(basename), exist_ok=True)\n",
    "    plt.savefig(\"{}.pdf\".format(basename), dpi=600)\n",
    "    plt.clf()\n",
    "    plt.close()\n",
    "\n",
    "def build_clustermap(data: pd.DataFrame, value_col_names: list, group: str, out_dir: str):\n",
    "    title = \"Correlation between clinical and ELISA data for {}\".format(group)\n",
    "    export_prefix = os.path.join(out_dir, title)\n",
    "    _data = prepare_df(data, value_col_names)\n",
    "    correlation_df = _data.corr(method=\"spearman\")\n",
    "    Utilities.dump_tsv(correlation_df, \"{}.tsv\".format(export_prefix))\n",
    "    sns.set()\n",
    "    plt.rcParams[\"figure.figsize\"] = (10, 10)\n",
    "    _ = sns.clustermap(correlation_df, metric=\"cityblock\", cmap=\"plasma\").fig.suptitle(\n",
    "        title, fontsize=10,y=0.995) \n",
    "    export_plot(export_prefix)\n",
    "\n",
    "def build_pairplot(data: pd.DataFrame, value_col_names: list, group: str, out_dir: str):\n",
    "    title = \"Pair plot for clinical and ELISA data for {}\".format(group)\n",
    "    export_prefix = os.path.join(out_dir, title)\n",
    "    _data = prepare_df(data, value_col_names)\n",
    "    Utilities.dump_tsv(_data, \"{}.tsv\".format(export_prefix))\n",
    "    sns.set()\n",
    "    plt.rcParams[\"figure.figsize\"] = (20, 20)  \n",
    "    _ = sns.pairplot(data=_data, kind=\"reg\", vars=_data.columns).fig.suptitle(\n",
    "        title, fontsize=10, y=0.997)\n",
    "    export_plot(export_prefix)"
   ],
   "metadata": {
    "collapsed": false,
    "pycharm": {
     "name": "#%%\n",
     "is_executing": false
    }
   },
   "execution_count": 4,
   "outputs": []
  },
  {
   "cell_type": "code",
   "execution_count": 5,
   "outputs": [],
   "source": [
    "for group_name in group_names:\n",
    "    group_df = whole_raw_df.query(\"group == '{}'\".format(group_name))\n",
    "    build_clustermap(data=group_df, value_col_names=raw_value_col_names, out_dir=correlation_dir, \n",
    "                     group=group_name)\n",
    "    build_pairplot(data=group_df, value_col_names=raw_value_col_names, out_dir=correlation_dir, \n",
    "                   group=group_name)"
   ],
   "metadata": {
    "collapsed": false,
    "pycharm": {
     "name": "#%%\n",
     "is_executing": false
    }
   }
  },
  {
   "cell_type": "code",
   "execution_count": 6,
   "outputs": [],
   "source": [
    "for obesity_subgroup_name in obesity_subgroup_names:\n",
    "    obesity_subgroup_df = whole_raw_df.query(\"subgroup == '{}'\".format(obesity_subgroup_name))\n",
    "    build_clustermap(data=obesity_subgroup_df, value_col_names=raw_value_col_names, \n",
    "                     out_dir=correlation_dir, group=obesity_subgroup_name)\n",
    "    build_pairplot(data=obesity_subgroup_df, value_col_names=raw_value_col_names, \n",
    "                   out_dir=correlation_dir, group=obesity_subgroup_name)"
   ],
   "metadata": {
    "collapsed": false,
    "pycharm": {
     "name": "#%%\n",
     "is_executing": false
    }
   }
  }
 ],
 "metadata": {
  "kernelspec": {
   "display_name": "Python 3",
   "language": "python",
   "name": "python3"
  },
  "language_info": {
   "codemirror_mode": {
    "name": "ipython",
    "version": 2
   },
   "file_extension": ".py",
   "mimetype": "text/x-python",
   "name": "python",
   "nbconvert_exporter": "python",
   "pygments_lexer": "ipython2",
   "version": "2.7.6"
  },
  "pycharm": {
   "stem_cell": {
    "cell_type": "raw",
    "source": [],
    "metadata": {
     "collapsed": false
    }
   }
  }
 },
 "nbformat": 4,
 "nbformat_minor": 0
}