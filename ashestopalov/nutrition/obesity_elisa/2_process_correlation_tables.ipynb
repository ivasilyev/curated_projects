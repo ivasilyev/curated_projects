{
 "cells": [
  {
   "cell_type": "code",
   "execution_count": 1,
   "metadata": {
    "collapsed": true,
    "pycharm": {
     "is_executing": false,
     "name": "#%%\n"
    }
   },
   "outputs": [],
   "source": [
    "import os\n",
    "import pandas as pd\n",
    "from itertools import product\n",
    "from meta.scripts.Utilities import Utilities\n",
    "\n",
    "\n",
    "def describe_correlation_coefficient(r: float):\n",
    "    if 1.0 >= r:\n",
    "        if r < 0:\n",
    "            out = \"negative\"\n",
    "        else:\n",
    "            out = \"positive\"\n",
    "        _r = abs(r)\n",
    "       \n",
    "        if 0.01 < _r < 0.3:\n",
    "            return \"weak_{}\".format(out)\n",
    "        if 0.3 <= _r < 0.7:\n",
    "            return \"moderate_{}\".format(out)\n",
    "        if 0.70 <= _r <= 1.0:\n",
    "            return \"strong_{}\".format(out)\n",
    "    return \"none\"\n",
    "\n",
    "\n",
    "def describe_correlation_table(file: str):\n",
    "    correlation_df = Utilities.load_tsv(file)\n",
    "    correlation_df.set_index(correlation_df.columns[0], inplace=True)\n",
    "    annotation_df = correlation_df.applymap(describe_correlation_coefficient)\n",
    "    annotation_dict = dict()\n",
    "    for index, column in product(annotation_df.index.values, annotation_df.columns.values):\n",
    "        value = annotation_df.loc[index, column]\n",
    "        if index != column and len(value) > 0 and any(i in value for i in [\"strong\", \"moderate\"]):\n",
    "            annotation_dict[\" vs \".join(sorted([index, column]))] = value\n",
    "    return pd.DataFrame([dict(file_name=os.path.basename(file), \n",
    "                              comparison_pair=k, dependence=annotation_dict[k]) \n",
    "                         for k in annotation_dict])\n"
   ]
  },
  {
   "cell_type": "code",
   "execution_count": 2,
   "outputs": [],
   "source": [
    "correlation_tables = [i for i in Utilities.scan_whole_dir(\n",
    "    os.path.join(os.getcwd(), \"data\", \"correlation\")) if \"Correlation\" in i]\n",
    "\n",
    "described_df = pd.concat(\n",
    "    Utilities.single_core_queue(describe_correlation_table, correlation_tables), axis=0, sort=False, ignore_index=True)\n",
    "\n",
    "Utilities.dump_tsv(described_df, \n",
    "                   os.path.join(os.getcwd(), \n",
    "                                \"data\", \"correlation\", \"description\", \"description.tsv\"))"
   ],
   "metadata": {
    "collapsed": false,
    "pycharm": {
     "name": "#%%\n",
     "is_executing": false
    }
   }
  }
 ],
 "metadata": {
  "kernelspec": {
   "display_name": "Python 3",
   "language": "python",
   "name": "python3"
  },
  "language_info": {
   "codemirror_mode": {
    "name": "ipython",
    "version": 2
   },
   "file_extension": ".py",
   "mimetype": "text/x-python",
   "name": "python",
   "nbconvert_exporter": "python",
   "pygments_lexer": "ipython2",
   "version": "2.7.6"
  },
  "pycharm": {
   "stem_cell": {
    "cell_type": "raw",
    "source": [],
    "metadata": {
     "collapsed": false
    }
   }
  }
 },
 "nbformat": 4,
 "nbformat_minor": 0
}