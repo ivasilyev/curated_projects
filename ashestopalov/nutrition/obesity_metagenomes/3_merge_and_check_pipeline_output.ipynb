{
 "cells": [
  {
   "cell_type": "code",
   "execution_count": 1,
   "metadata": {
    "collapsed": true,
    "pycharm": {
     "is_executing": false
    }
   },
   "outputs": [],
   "source": [
    "import os\n",
    "import pandas as pd\n",
    "from meta.scripts.Utilities import Utilities\n",
    "from ashestopalov.nutrition.obesity_metagenomes.ProjectDescriber import ProjectDescriber"
   ]
  },
  {
   "cell_type": "code",
   "execution_count": 2,
   "outputs": [],
   "source": [
    "pipeline_files = Utilities.scan_whole_dir(os.path.join(ProjectDescriber.ROOT_DIR, \"qiime2\")) + \\\n",
    "                 Utilities.scan_whole_dir(os.path.join(ProjectDescriber.ROOT_DIR, \"picrust2\"))"
   ],
   "metadata": {
    "collapsed": false,
    "pycharm": {
     "name": "#%%\n",
     "is_executing": false
    }
   }
  },
  {
   "cell_type": "code",
   "execution_count": 3,
   "outputs": [],
   "source": [
    "otu_id_df = pd.concat([pd.read_csv(i, header=1, sep=\"\\t\", index_col=\"#OTU ID\") \n",
    "                       for i in pipeline_files if os.path.basename(i) == \"OTUs.tsv\"], \n",
    "                      axis=1, sort=False, join=\"outer\")\n",
    "otu_id_df = pd.concat([otu_id_df, Utilities.load_tsv(\n",
    "    \"/data/reference/SILVA/SILVA_v138/SILVA_138_Taxonomy_headed.tsv\").set_index(\"#OTU ID\")], \n",
    "                      axis=1, sort=False, join=\"inner\")\n",
    "otu_id_df = otu_id_df.rename_axis(index=\"#OTU ID\").reset_index().set_index(\n",
    "    [\"taxonomy\", \"#OTU ID\"]).fillna(0).sort_index()"
   ],
   "metadata": {
    "collapsed": false,
    "pycharm": {
     "name": "#%% Parse QIIME2 out\n",
     "is_executing": false
    }
   }
  },
  {
   "cell_type": "code",
   "execution_count": 4,
   "outputs": [],
   "source": [
    "ec_id_df = pd.concat([Utilities.load_tsv(i).set_index([\"description\", \"function\"]) \n",
    "                      for i in pipeline_files \n",
    "                      if os.path.basename(i) == \"pred_metagenome_unstrat_described.tsv\" \n",
    "                      and os.path.basename(os.path.dirname(i)) == \"EC_metagenome_out\"], \n",
    "                     axis=1, sort=False).fillna(0).sort_index()\n",
    "ko_id_df = pd.concat([Utilities.load_tsv(i).set_index([\"description\", \"function\"]) \n",
    "                      for i in pipeline_files \n",
    "                      if os.path.basename(i) == \"pred_metagenome_unstrat_described.tsv\" \n",
    "                      and os.path.basename(os.path.dirname(i)) == \"KO_metagenome_out\"], \n",
    "                     axis=1, sort=False).fillna(0).sort_index()\n",
    "\n",
    "pathway_id_df = pd.concat([Utilities.load_tsv(i).set_index([\"description\", \"pathway\"]) \n",
    "                           for i in pipeline_files \n",
    "                           if os.path.basename(i) == \"path_abun_unstrat_described.tsv\" \n",
    "                           and os.path.basename(os.path.dirname(i)) == \"pathways_out\"], \n",
    "                          axis=1, sort=False).fillna(0).sort_index()"
   ],
   "metadata": {
    "collapsed": false,
    "pycharm": {
     "name": "#%% Parse PICRUSt2 out\n",
     "is_executing": false
    }
   }
  },
  {
   "cell_type": "code",
   "execution_count": 5,
   "outputs": [],
   "source": [
    "merged_data_dir = os.path.join(ProjectDescriber.ROOT_DIR, \"data\", \"merged_data\")\n",
    "os.makedirs(merged_data_dir, exist_ok=True)\n",
    "for df, name in zip([otu_id_df, ec_id_df, ko_id_df, pathway_id_df], [\"OTU\", \"EC\", \"KO\", \"pathway\"]):\n",
    "    Utilities.dump_tsv(df, os.path.join(merged_data_dir, \"{}_IDs.tsv\".format(name)), \n",
    "                       reset_index=True)"
   ],
   "metadata": {
    "collapsed": false,
    "pycharm": {
     "name": "#%%\n",
     "is_executing": false
    }
   }
  },
  {
   "cell_type": "code",
   "execution_count": 6,
   "outputs": [],
   "source": [
    "qiime2_source_info_df = pd.concat([pd.read_csv(os.path.join(\n",
    "    ProjectDescriber.SAMPLE_DATA_DIR, \"qiime2_sample_data_{}.csv\".format(i))) \n",
    "    for i in (\"blood\", \"stool\")], axis=0, ignore_index=True, sort=False)\n",
    "sample_names = qiime2_source_info_df[\"sample-id\"].unique()"
   ],
   "metadata": {
    "collapsed": false,
    "pycharm": {
     "name": "#%%\n",
     "is_executing": false
    }
   }
  },
  {
   "cell_type": "code",
   "execution_count": 7,
   "outputs": [],
   "source": [
    "for df, name in zip([otu_id_df, ec_id_df, ko_id_df, pathway_id_df], [\"OTU\", \"EC\", \"KO\", \"pathway\"]):\n",
    "    if len([i for i in df.columns if i not in sample_names]) != 0:\n",
    "        print(\"Failed check for results of: {}\".format(name))"
   ],
   "metadata": {
    "collapsed": false,
    "pycharm": {
     "name": "#%% Check if all the samples were processed for the each pipeline step\n",
     "is_executing": false
    }
   }
  }
 ],
 "metadata": {
  "kernelspec": {
   "display_name": "Python 3",
   "language": "python",
   "name": "python3"
  },
  "language_info": {
   "codemirror_mode": {
    "name": "ipython",
    "version": 2
   },
   "file_extension": ".py",
   "mimetype": "text/x-python",
   "name": "python",
   "nbconvert_exporter": "python",
   "pygments_lexer": "ipython2",
   "version": "2.7.6"
  },
  "pycharm": {
   "stem_cell": {
    "cell_type": "raw",
    "source": [],
    "metadata": {
     "collapsed": false
    }
   }
  }
 },
 "nbformat": 4,
 "nbformat_minor": 0
}