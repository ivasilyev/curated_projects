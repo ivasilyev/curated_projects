{
 "cells": [
  {
   "cell_type": "code",
   "execution_count": 1,
   "outputs": [],
   "source": [
    "import os\n",
    "import xlrd\n",
    "import pandas as pd\n",
    "from matplotlib import pyplot as plt\n",
    "from sklearn.preprocessing import StandardScaler\n",
    "from sklearn.decomposition import PCA\n",
    "\n",
    "output_dir = \"/data1/bio/projects/isalafutdinov\"\n",
    "table_file = os.path.join(output_dir, \"Metabolomics results 14022020_4_claster_FINAL.xlsx\")\n",
    "table_df = pd.read_excel(table_file)\n",
    "table_df = table_df.loc[table_df[\"Sample Name\"] != \"Sample Type\", \n",
    "                        list(filter(lambda x: len(x.strip()) > 0 and \"unnamed\" not in x.lower(), table_df.columns))]\n",
    "table_df = table_df.rename(columns={\"Sample Name\": \"Metabolyte\"}).set_index(\"Metabolyte\").transpose()\n",
    "table_df.index.names = [\"Sample Name\"]"
   ],
   "metadata": {
    "collapsed": false,
    "pycharm": {
     "name": "#%%\n",
     "is_executing": false
    }
   }
  },
  {
   "cell_type": "code",
   "execution_count": 2,
   "outputs": [],
   "source": [
    "scaled_df = pd.DataFrame(StandardScaler().fit_transform(table_df), columns=table_df.columns, \n",
    "                         index=table_df.index)"
   ],
   "metadata": {
    "collapsed": false,
    "pycharm": {
     "name": "#%%\n",
     "is_executing": false
    }
   }
  },
  {
   "cell_type": "code",
   "execution_count": 3,
   "outputs": [],
   "source": [
    "pca = PCA(n_components=2)\n",
    "pca_df = pd.DataFrame(pca.fit_transform(scaled_df), columns=[\"PCA {}\".format(i) for i in range(1, 3)], \n",
    "                      index=scaled_df.index)"
   ],
   "metadata": {
    "collapsed": false,
    "pycharm": {
     "name": "#%%\n",
     "is_executing": false
    }
   }
  },
  {
   "cell_type": "code",
   "execution_count": 4,
   "outputs": [],
   "source": [
    "# pca_df.plot.scatter(x=pca_df.columns[0], y=pca_df.columns[1])\n",
    "plt.rcParams[\"figure.figsize\"] = (28, 20)\n",
    "fig, ax = plt.subplots()\n",
    "ax.set_xlabel(\"Principal Component 1\", fontsize = 15)\n",
    "ax.set_ylabel(\"Principal Component 2\", fontsize = 15)\n",
    "ax.set_title(\"2 component PCA\", fontsize = 20)\n",
    "\n",
    "pca_x = pca_df[pca_df.columns[0]].values\n",
    "pca_y = pca_df[pca_df.columns[1]].values\n",
    "ax.scatter(x=pca_x, y=pca_y)\n",
    "\n",
    "for idx, txt in enumerate(pca_df.index):\n",
    "    ax.annotate(txt, (pca_x[idx], pca_y[idx]), fontsize=\"xx-small\")\n",
    "\n",
    "plt.savefig(os.path.join(output_dir, \"pca.png\"), dpi=300)\n",
    "plt.clf()\n",
    "plt.close()"
   ],
   "metadata": {
    "collapsed": false,
    "pycharm": {
     "name": "#%%\n",
     "is_executing": false
    }
   }
  }
 ],
 "metadata": {
  "kernelspec": {
   "display_name": "Python 3",
   "language": "python",
   "name": "python3"
  },
  "language_info": {
   "codemirror_mode": {
    "name": "ipython",
    "version": 2
   },
   "file_extension": ".py",
   "mimetype": "text/x-python",
   "name": "python",
   "nbconvert_exporter": "python",
   "pygments_lexer": "ipython2",
   "version": "2.7.6"
  },
  "pycharm": {
   "stem_cell": {
    "cell_type": "raw",
    "source": [
     "#!/usr/bin/env python3\n",
     "# -*- coding: utf-8 -*-\n"
    ],
    "metadata": {
     "collapsed": false
    }
   }
  }
 },
 "nbformat": 4,
 "nbformat_minor": 0
}