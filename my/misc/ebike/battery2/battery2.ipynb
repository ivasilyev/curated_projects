{
 "cells": [
  {
   "cell_type": "code",
   "execution_count": 1,
   "metadata": {
    "collapsed": true,
    "pycharm": {
     "is_executing": false
    }
   },
   "outputs": [],
   "source": [
    "import os\n",
    "import heapq\n",
    "import numpy as np\n",
    "import pandas as pd\n",
    "import seaborn as sns\n",
    "from matplotlib import pyplot as plt\n",
    "from meta.scripts.utils.pandas_utils import dump_tsv\n",
    "\n",
    "TITLES = (\"Capacity\", \"Internal Resistance\", \"Maximal Voltage\")\n",
    "cells_df = pd.concat([pd.read_csv(i).set_index(\"no\") for i in (\"18650-1.csv\", \"18650-3.csv\")], \n",
    "                     sort=False, axis=0)"
   ]
  },
  {
   "cell_type": "code",
   "execution_count": 2,
   "outputs": [],
   "source": [
    "sns.set(style=\"whitegrid\")\n",
    "fig = plt.figure(figsize=(10, 10))\n",
    "\n",
    "for idx, column in enumerate(cells_df.columns):\n",
    "    ax = fig.add_subplot(2, 2, idx + 1)\n",
    "    hist_plot = sns.histplot(data=cells_df[column], ax=ax, \n",
    "                             color=sns.color_palette(\"hls\", len(cells_df.columns))[idx], kde=True)\n",
    "    xlim = hist_plot.get_xlim()\n",
    "    hist_plot.set_xlim([xlim[0], 1.033 * xlim[1]])\n",
    "    hist_plot.set_title(\"Data distribution for {}\".format(TITLES[idx]), \n",
    "                        fontsize=\"larger\")\n",
    "\n",
    "fig.suptitle(\"VariCore NCR18650b charts\", fontsize=\"x-large\", weight=\"semibold\")\n",
    "plt.tight_layout()\n",
    "# plt.show()\n",
    "plt.savefig(\"hist_plot.png\", dpi=300)\n",
    "plt.clf()\n",
    "plt.close()"
   ],
   "metadata": {
    "collapsed": false,
    "pycharm": {
     "name": "#%%\n",
     "is_executing": false
    }
   }
  },
  {
   "cell_type": "code",
   "execution_count": 3,
   "outputs": [],
   "source": [
    "fig = plt.figure(figsize=(10, 10))\n",
    "\n",
    "for idx, column in enumerate(cells_df.columns):\n",
    "    ax = fig.add_subplot(2, 2, idx + 1)\n",
    "    data = cells_df[column]\n",
    "    mean = int(np.floor(data.mean()))\n",
    "    box_plot = sns.boxplot(y=data, ax=ax, color=sns.color_palette(\"hls\", len(cells_df.columns))[idx])\n",
    "    # ax.text(x=idx % 2, y=mean, s=\"{} mean = {}\".format(column, mean), fontsize=15)\n",
    "    ylim = box_plot.get_ylim()[0]\n",
    "    for xtick in box_plot.get_xticks():\n",
    "        box_plot.text(x=xtick, y=ylim * 1.005, s=\"{} mean = {}\".format(column, mean), \n",
    "                      fontstyle=\"italic\", fontsize=\"larger\", ha=\"center\", va=\"center\", \n",
    "                      weight=\"light\")\n",
    "    box_plot.set_title(\"Data description for {}\".format(TITLES[idx]), fontsize=\"larger\")\n",
    "\n",
    "fig.suptitle(\"VariCore NCR18650b charts\", fontsize=\"x-large\", weight=\"semibold\")\n",
    "plt.tight_layout()\n",
    "# plt.show()\n",
    "plt.savefig(os.path.join(os.getcwd(), \"box_plot.png\"), dpi=300)\n",
    "plt.clf()\n",
    "plt.close()"
   ],
   "metadata": {
    "collapsed": false,
    "pycharm": {
     "name": "#%%\n",
     "is_executing": false
    }
   }
  },
  {
   "cell_type": "code",
   "execution_count": 4,
   "outputs": [],
   "source": [
    "def sublist_creator(d: dict, n: int):\n",
    "    # Based on: https://stackoverflow.com/questions/61648065/split-list-into-n-sublists-with-approximately-equal-sums\n",
    "    lists_k = [[] for _ in range(n)]\n",
    "    lists_v = [[] for _ in range(n)]\n",
    "    totals = [(0, i) for i in range(n)]\n",
    "    heapq.heapify(totals)\n",
    "    for k, v in d.items():\n",
    "        total, index = heapq.heappop(totals)\n",
    "        lists_k[index].append(k)\n",
    "        lists_v[index].append(v)\n",
    "        heapq.heappush(totals, (total + v, index))\n",
    "    return dict(keys=lists_k, values=lists_v)\n",
    "\n",
    "# Removing the cells with lowest capacity\n",
    "build_df = cells_df.sort_values(\"mAh\", ascending=False).head(65)\n",
    "# The cells described in \"18650-2.csv\" were from another package\n",
    "sub_lists = sublist_creator(build_df[\"mAh\"].to_dict(), 13)\n",
    "sub_dfs = [build_df.loc[i, :] for i in sub_lists[\"keys\"]]"
   ],
   "metadata": {
    "collapsed": false,
    "pycharm": {
     "name": "#%%\n",
     "is_executing": false
    }
   }
  },
  {
   "cell_type": "code",
   "execution_count": 5,
   "outputs": [],
   "source": [
    "assembly_df = pd.DataFrame([{\n",
    "    \"mAh_sum\": sum(i[\"mAh\"]), \"mAh_mean\": np.mean(i[\"mAh\"]), \"mOhm_sum\": sum(i[\"mOhm\"]), \n",
    "    \"mOhm_mean\": np.mean(i[\"mOhm\"]), \"cells\": \",\".join(str(j) for j in i.index)} for i in sub_dfs])\n",
    "\n",
    "dump_tsv(assembly_df, os.path.join(os.getcwd(), \"assembly.tsv\"))"
   ],
   "metadata": {
    "collapsed": false,
    "pycharm": {
     "name": "#%%\n",
     "is_executing": false
    }
   }
  }
 ],
 "metadata": {
  "kernelspec": {
   "display_name": "Python 3",
   "language": "python",
   "name": "python3"
  },
  "language_info": {
   "codemirror_mode": {
    "name": "ipython",
    "version": 2
   },
   "file_extension": ".py",
   "mimetype": "text/x-python",
   "name": "python",
   "nbconvert_exporter": "python",
   "pygments_lexer": "ipython2",
   "version": "2.7.6"
  },
  "pycharm": {
   "stem_cell": {
    "cell_type": "raw",
    "source": [],
    "metadata": {
     "collapsed": false
    }
   }
  }
 },
 "nbformat": 4,
 "nbformat_minor": 0
}