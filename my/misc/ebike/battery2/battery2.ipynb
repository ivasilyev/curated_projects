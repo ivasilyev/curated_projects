{
 "cells": [
  {
   "cell_type": "code",
   "execution_count": 1,
   "metadata": {
    "collapsed": true,
    "pycharm": {
     "is_executing": false
    }
   },
   "outputs": [],
   "source": [
    "import numpy as np\n",
    "import pandas as pd\n",
    "import seaborn as sns\n",
    "from matplotlib import pyplot as plt\n",
    "\n",
    "TITLES = (\"Capacity\", \"Internal Resistance\", \"Maximal Voltage\")\n",
    "df = pd.read_csv(\"18650-1.csv\").set_index(\"no\")"
   ]
  },
  {
   "cell_type": "code",
   "execution_count": 2,
   "outputs": [],
   "source": [
    "sns.set(style=\"whitegrid\")\n",
    "fig = plt.figure(figsize=(10, 10))\n",
    "\n",
    "for idx, column in enumerate(df.columns):\n",
    "    ax = fig.add_subplot(2, 2, idx + 1)\n",
    "    hist_plot = sns.histplot(data=df[column], ax=ax, \n",
    "                             color=sns.color_palette(\"hls\", len(df.columns))[idx], kde=True)\n",
    "    xlim = hist_plot.get_xlim()\n",
    "    hist_plot.set_xlim([xlim[0], 1.033 * xlim[1]])\n",
    "    hist_plot.set_title(\"Data distribution for {}\".format(TITLES[idx]), \n",
    "                        fontsize=\"larger\")\n",
    "\n",
    "fig.suptitle(\"VariCore NCR18650b charts\", fontsize=\"x-large\", weight=\"semibold\")\n",
    "plt.tight_layout()\n",
    "# plt.show()\n",
    "plt.savefig(\"hist_plot.png\", dpi=300)\n",
    "plt.clf()\n",
    "plt.close()"
   ],
   "metadata": {
    "collapsed": false,
    "pycharm": {
     "name": "#%%\n",
     "is_executing": false
    }
   }
  },
  {
   "cell_type": "code",
   "execution_count": 3,
   "outputs": [],
   "source": [
    "fig = plt.figure(figsize=(10, 10))\n",
    "\n",
    "for idx, column in enumerate(df.columns):\n",
    "    ax = fig.add_subplot(2, 2, idx + 1)\n",
    "    data = df[column]\n",
    "    mean = int(np.floor(data.mean()))\n",
    "    box_plot = sns.boxplot(y=data, ax=ax, color=sns.color_palette(\"hls\", len(df.columns))[idx])\n",
    "    # ax.text(x=idx % 2, y=mean, s=\"{} mean = {}\".format(column, mean), fontsize=15)\n",
    "    ylim = box_plot.get_ylim()[0]\n",
    "    for xtick in box_plot.get_xticks():\n",
    "        box_plot.text(x=xtick, y=ylim * 1.005, s=\"{} mean = {}\".format(column, mean), \n",
    "                      fontstyle=\"italic\", fontsize=\"larger\", ha=\"center\", va=\"center\", \n",
    "                      weight=\"light\")\n",
    "    box_plot.set_title(\"Data description for {}\".format(TITLES[idx]), fontsize=\"larger\")\n",
    "\n",
    "fig.suptitle(\"VariCore NCR18650b charts\", fontsize=\"x-large\", weight=\"semibold\")\n",
    "plt.tight_layout()\n",
    "# plt.show()\n",
    "plt.savefig(\"box_plot.png\", dpi=300)\n",
    "plt.clf()\n",
    "plt.close()"
   ],
   "metadata": {
    "collapsed": false,
    "pycharm": {
     "name": "#%%\n",
     "is_executing": false
    }
   }
  }
 ],
 "metadata": {
  "kernelspec": {
   "display_name": "Python 3",
   "language": "python",
   "name": "python3"
  },
  "language_info": {
   "codemirror_mode": {
    "name": "ipython",
    "version": 2
   },
   "file_extension": ".py",
   "mimetype": "text/x-python",
   "name": "python",
   "nbconvert_exporter": "python",
   "pygments_lexer": "ipython2",
   "version": "2.7.6"
  },
  "pycharm": {
   "stem_cell": {
    "cell_type": "raw",
    "source": [],
    "metadata": {
     "collapsed": false
    }
   }
  }
 },
 "nbformat": 4,
 "nbformat_minor": 0
}