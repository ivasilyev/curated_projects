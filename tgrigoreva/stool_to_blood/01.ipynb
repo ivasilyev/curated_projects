{
 "cells": [
  {
   "cell_type": "code",
   "execution_count": 1,
   "metadata": {
    "collapsed": true,
    "pycharm": {
     "is_executing": false
    }
   },
   "outputs": [],
   "source": [
    "import os\n",
    "import xlrd\n",
    "import pandas as pd\n",
    "from matplotlib import pyplot as plt\n",
    "from sklearn.preprocessing import StandardScaler\n",
    "from sklearn.decomposition import PCA\n",
    "from collections import Counter\n",
    "os.chdir(\"..\")\n",
    "from meta.scripts.Utilities import Utilities"
   ]
  },
  {
   "cell_type": "code",
   "execution_count": 2,
   "outputs": [],
   "source": [
    "output_dir = \"/data1/bio/projects/tgrigoreva/stool_to_blood\"\n",
    "table_file = os.path.join(output_dir, \"stool_blood_paired_only.xlsx\")\n",
    "table_df = pd.read_excel(table_file, encoding=\"utf-8\")\n",
    "table_df = table_df.loc[:, list(filter(lambda x: len(x.strip()) > 0 and \"unnamed\" not in x.lower(), table_df.columns))]\n",
    "table_df.set_index(\"ID\", inplace=True)\n",
    "table_df[\"Age\"] = table_df[\"Диагноз\"].apply(lambda x: x.split(\"_\")[0])\n",
    "table_df[\"Diagnosis\"] = table_df[\"Диагноз\"].apply(lambda x: x.split(\"_\")[-1])\n",
    "taxonomy_columns = [i for i in table_df.columns if i.startswith(\"k\")]\n",
    "table_df.replace({\"ЯК\": \"colitis\", \"здоровый\": \"healthy\", \"ожирение\": \"obesity\", \n",
    "                  \"Ребенок\": \"child\", \"Взрослый\": \"adult\"}, inplace=True)"
   ],
   "metadata": {
    "collapsed": false,
    "pycharm": {
     "name": "#%%\n",
     "is_executing": false
    }
   }
  },
  {
   "cell_type": "code",
   "execution_count": 3,
   "outputs": [],
   "source": [
    "def sanitize_series(s: pd.Series):\n",
    "    return {i: s.get(i) for i in s.keys() if s.get(i) > 0}\n",
    "\n",
    "\n",
    "stool_sum_series = table_df.loc[table_df[\"type\"] == \"stool\", taxonomy_columns].sum(axis=0)\n",
    "stool_taxonomy_df = table_df.loc[table_df[\"type\"] == \"stool\", sanitize_series(stool_sum_series).keys()]\n",
    "\n",
    "blood_sum_series = table_df.loc[table_df[\"type\"] == \"blood\", taxonomy_columns].sum(axis=0)\n",
    "blood_taxonomy_df = table_df.loc[table_df[\"type\"] == \"blood\", sanitize_series(blood_sum_series).keys()]\n",
    "\n",
    "common_taxonomy_columns = [i for i in set(stool_taxonomy_df.columns) if i in set(blood_taxonomy_df.columns)]\n",
    "common_taxonomy_df = table_df.loc[:, common_taxonomy_columns]"
   ],
   "metadata": {
    "collapsed": false,
    "pycharm": {
     "name": "#%%\n",
     "is_executing": false
    }
   }
  },
  {
   "cell_type": "code",
   "execution_count": 4,
   "outputs": [],
   "source": [
    "scaled_common_taxonomy_df = pd.DataFrame(StandardScaler().fit_transform(common_taxonomy_df), \n",
    "                                         columns=common_taxonomy_df.columns, index=common_taxonomy_df.index)\n",
    "pca = PCA(n_components=2)\n",
    "pca_df = pd.DataFrame(pca.fit_transform(scaled_common_taxonomy_df), columns=[\"PCA {}\".format(i) for i in range(1, 3)], \n",
    "                      index=scaled_common_taxonomy_df.index)"
   ],
   "metadata": {
    "collapsed": false,
    "pycharm": {
     "name": "#%%\n",
     "is_executing": false
    }
   }
  },
  {
   "cell_type": "code",
   "source": [
    "# print(set(table_df[\"type\"].values), set(table_df[\"Diagnosis\"].values), set(table_df[\"Age\"].values))\n",
    "\n",
    "class DataHolder:\n",
    "    \"\"\"\n",
    "    Holds per-group data\n",
    "    \"\"\"\n",
    "    def __init__(self, indices: list, sample_type: str, diagnosis: str, age: str):\n",
    "        self.sample_type = sample_type\n",
    "        self.diagnosis = diagnosis\n",
    "        self.age = age  \n",
    "        self.indices = sorted(indices)\n",
    "        if self.sample_type.strip() == \"stool\":\n",
    "            self.edgecolors = \"blue\"\n",
    "        else:\n",
    "            self.edgecolors = \"red\"\n",
    "        if self.diagnosis.strip() == \"obesity\":\n",
    "            self.marker = \"s\"\n",
    "        elif diagnosis.strip() == \"colitis\":\n",
    "            self.marker = \"^\"\n",
    "        else:\n",
    "            self.marker = \"o\"\n",
    "        if self.age.strip() == \"child\":\n",
    "            self.facecolors = \"none\"\n",
    "        else:\n",
    "            self.facecolors = self.edgecolors\n",
    "        # More payload\n",
    "        self.words_dump = []\n",
    "        self.median_data = []\n",
    "        self.sum_data = []\n",
    "\n",
    "    def get_group_name(self):\n",
    "        return \", \".join([self.age, self.diagnosis, self.sample_type])\n",
    "\n",
    "    def get_major_df(self, n: int = 50):\n",
    "        counter = Counter(self.words_dump)\n",
    "        # [('a', 0), ('b', 1), ('c', 2) ...]\n",
    "        out_df = pd.DataFrame([{\"taxa\": i[0], \"occurrences_per_group\": i[1]} for i in counter.most_common(n)])\n",
    "        return out_df\n",
    "    \n",
    "    def finalize_df(self, df: pd.DataFrame):\n",
    "        out_df = df.copy()\n",
    "        for col_name, value in zip([\"age\", \"diagnosis\", \"sample_type\"], [self.age, self.diagnosis, self.sample_type]):\n",
    "            out_df[col_name] = value\n",
    "        return out_df\n",
    "\n",
    "\n",
    "data_holders = []\n",
    "for diagnosis_ in set(table_df[\"Diagnosis\"].values):\n",
    "    diagnosis_sub_df = table_df.loc[table_df[\"Diagnosis\"] == diagnosis_]\n",
    "    for age_ in set(diagnosis_sub_df[\"Age\"].values):\n",
    "        age_diagnosis_sub_df = diagnosis_sub_df.loc[diagnosis_sub_df[\"Age\"] == age_]\n",
    "        for type_ in set(age_diagnosis_sub_df[\"type\"].values):\n",
    "            type_age_diagnosis_sub_df = age_diagnosis_sub_df.loc[age_diagnosis_sub_df[\"type\"] == type_]\n",
    "            data_holders.append(DataHolder(indices=type_age_diagnosis_sub_df.index.values,\n",
    "                                           sample_type=type_, diagnosis=diagnosis_, age=age_))"
   ],
   "metadata": {
    "collapsed": false,
    "pycharm": {
     "name": "#%%\n",
     "is_executing": false
    }
   },
   "execution_count": 5,
   "outputs": []
  },
  {
   "cell_type": "code",
   "execution_count": 6,
   "outputs": [],
   "source": [
    "plt.rcParams[\"figure.figsize\"] = (28, 20)\n",
    "fig, ax = plt.subplots()\n",
    "ax.set_xlabel(\"Principal Component 1\", fontsize = 15)\n",
    "ax.set_ylabel(\"Principal Component 2\", fontsize = 15)\n",
    "ax.set_title(\"2-component PCA\", fontsize = 20)\n",
    "\n",
    "for data_holder in data_holders:\n",
    "    pca_x = pca_df.loc[data_holder.indices, [pca_df.columns[0]]].values\n",
    "    pca_y = pca_df.loc[data_holder.indices, [pca_df.columns[1]]].values\n",
    "    ax.scatter(facecolors=data_holder.facecolors, edgecolors=data_holder.edgecolors, marker=data_holder.marker, \n",
    "               label=data_holder.get_group_name(), x=pca_x, y=pca_y)\n",
    "    for idx, txt in enumerate(data_holder.indices):\n",
    "        ax.annotate(txt, (pca_x[idx], pca_y[idx]), fontsize=\"xx-small\")\n",
    "\n",
    "ax.legend()\n",
    "ax.grid()\n",
    "\n",
    "plt.savefig(os.path.join(output_dir, \"blood_AND_stool_ONLY_positive_pca.png\"), dpi=300)\n",
    "plt.clf()\n",
    "plt.close()"
   ],
   "metadata": {
    "collapsed": false,
    "pycharm": {
     "name": "#%%\n",
     "is_executing": false
    }
   }
  },
  {
   "cell_type": "code",
   "execution_count": 7,
   "outputs": [],
   "source": [
    "for data_holder in data_holders:\n",
    "    for common_taxonomy_idx in data_holder.indices:\n",
    "        data_holder.words_dump.extend(\n",
    "            sanitize_series(common_taxonomy_df.loc[[common_taxonomy_idx], :].sum(axis=0)).keys())\n",
    "        Utilities.dump_tsv(data_holder.get_major_df(999), \n",
    "                           os.path.join(output_dir, \"majors_by_occurrence\", \n",
    "                                        \"occurrence_only_positive_{}.tsv\".format(data_holder.get_group_name())))"
   ],
   "metadata": {
    "collapsed": false,
    "pycharm": {
     "name": "#%%\n",
     "is_executing": false
    }
   }
  },
  {
   "cell_type": "code",
   "execution_count": 8,
   "outputs": [],
   "source": [
    "for data_holder in data_holders:\n",
    "    data_holder.median_data = sanitize_series(common_taxonomy_df.loc[data_holder.indices, :].median(axis=0))\n",
    "    Utilities.dump_tsv(pd.DataFrame([{\"taxa\": k, \"median\": data_holder.median_data.get(k)} \n",
    "                                     for k in data_holder.median_data]).sort_values(\"median\", ascending=False),\n",
    "                       os.path.join(output_dir, \"majors_by_median\", \n",
    "                                    \"median_only_positive_{}.tsv\".format(data_holder.get_group_name())))\n",
    "    data_holder.sum_data = sanitize_series(common_taxonomy_df.loc[data_holder.indices, :].sum(axis=0))\n",
    "    Utilities.dump_tsv(pd.DataFrame([{\"taxa\": k, \"sum\": data_holder.sum_data.get(k)} \n",
    "                                     for k in data_holder.sum_data]).sort_values(\"sum\", ascending=False),\n",
    "                       os.path.join(output_dir, \"majors_by_sum\", \n",
    "                                    \"sum_only_positive_{}.tsv\".format(data_holder.get_group_name())))"
   ],
   "metadata": {
    "collapsed": false,
    "pycharm": {
     "name": "#%%\n",
     "is_executing": false
    }
   }
  }
 ],
 "metadata": {
  "kernelspec": {
   "display_name": "Python 3",
   "language": "python",
   "name": "python3"
  },
  "language_info": {
   "codemirror_mode": {
    "name": "ipython",
    "version": 2
   },
   "file_extension": ".py",
   "mimetype": "text/x-python",
   "name": "python",
   "nbconvert_exporter": "python",
   "pygments_lexer": "ipython2",
   "version": "2.7.6"
  },
  "pycharm": {
   "stem_cell": {
    "cell_type": "raw",
    "source": [
     "#!/usr/bin/env python3\n",
     "# -*- coding: utf-8 -*-\n"
    ],
    "metadata": {
     "collapsed": false
    }
   }
  }
 },
 "nbformat": 4,
 "nbformat_minor": 0
}