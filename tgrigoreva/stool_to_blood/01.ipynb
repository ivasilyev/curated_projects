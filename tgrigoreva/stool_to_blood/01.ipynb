{
 "cells": [
  {
   "cell_type": "code",
   "execution_count": 1,
   "metadata": {
    "collapsed": true,
    "pycharm": {
     "is_executing": false
    }
   },
   "outputs": [],
   "source": [
    "import os\n",
    "import xlrd\n",
    "import pandas as pd\n",
    "import seaborn as sns\n",
    "from scipy import stats\n",
    "from itertools import product\n",
    "from collections import Counter\n",
    "from scipy.spatial import distance\n",
    "from matplotlib import pyplot as plt\n",
    "from statsmodels.stats import multitest\n",
    "from sklearn.decomposition import PCA\n",
    "from sklearn.preprocessing import StandardScaler\n",
    "from meta.scripts.Utilities import Utilities\n",
    "\n",
    "\n",
    "def sanitize_series(s: pd.Series):\n",
    "    return {i: s.get(i) for i in s.keys() if s.get(i) > 0}\n",
    "\n",
    "\n",
    "def dict_list_to_dataframe(list_: list, key_column_name: str, value_column_name: str, \n",
    "                           sort: bool = False):\n",
    "    out = pd.DataFrame(list_).set_index(key_column_name).sort_index()\n",
    "    out.columns.name = \"values\"\n",
    "    if sort:\n",
    "        out.sort_values(value_column_name, ascending=False, inplace=True)\n",
    "    return out\n",
    "\n",
    "def get_u_test_dict(two_dim_array: list):\n",
    "    out = dict(p_values=1)\n",
    "    if sum([sum(i) for i in two_dim_array]) > 0:\n",
    "        out[\"p_values\"] = stats.mannwhitneyu(*two_dim_array).__getattribute__(\"pvalue\")\n",
    "    out[\"is_significant_for_single\"] = out[\"p_values\"] < SINGLE_COMPARISON_ALPHA\n",
    "    return out\n",
    "\n",
    "def pair_flat_list(list_: list):\n",
    "    list_ = set(list_)\n",
    "    out = []\n",
    "    for pair in sorted(product(list_, list_)):\n",
    "        append = sorted(set(pair))\n",
    "        if len(append) > 1 and append not in out:\n",
    "            out.append(append)\n",
    "    return out\n",
    "\n",
    "def get_prevalent_list_number(two_dim_array: list, func):\n",
    "    \"\"\"\n",
    "    :param two_dim_array: 2D array\n",
    "    :param func: Comparing function, e.g. sum() or numpy.median()\n",
    "    :return: Number (zero-based) of list with the prevalent result\n",
    "    \"\"\"\n",
    "    results = [func(i) for i in two_dim_array]\n",
    "    return results.index(max(results))"
   ]
  },
  {
   "cell_type": "code",
   "execution_count": 2,
   "outputs": [],
   "source": [
    "output_dir = \"/data1/bio/projects/tgrigoreva/stool_to_blood\"\n",
    "table_file = os.path.join(output_dir, \"stool_blood_paired_only.xlsx\")\n",
    "table_df = pd.read_excel(table_file, encoding=\"utf-8\")\n",
    "table_df = table_df.loc[:, list(filter(lambda x: len(x.strip()) > 0 and \"unnamed\" not in x.lower(), \n",
    "                                       table_df.columns))]\n",
    "table_df.set_index(\"ID\", inplace=True)\n",
    "table_df[\"age\"] = table_df[\"Диагноз\"].apply(lambda x: x.split(\"_\")[0])\n",
    "table_df[\"diagnosis\"] = table_df[\"Диагноз\"].apply(lambda x: x.split(\"_\")[-1])\n",
    "taxonomy_columns = [i for i in table_df.columns if i.startswith(\"k\")]\n",
    "table_df.replace({\"ЯК\": \"colitis\", \"здоровый\": \"normal\", \"ожирение\": \"obesity\", \"Ребенок\": \"child\", \n",
    "                  \"Взрослый\": \"adult\"}, inplace=True)"
   ],
   "metadata": {
    "collapsed": false,
    "pycharm": {
     "name": "#%%\n",
     "is_executing": false
    }
   }
  },
  {
   "cell_type": "code",
   "execution_count": 3,
   "outputs": [],
   "source": [
    "stool_sum_series = table_df.loc[table_df[\"type\"] == \"stool\", taxonomy_columns].sum(axis=0)\n",
    "stool_taxonomy_df = table_df.loc[table_df[\"type\"] == \"stool\", \n",
    "                                 sanitize_series(stool_sum_series).keys()]\n",
    "\n",
    "blood_sum_series = table_df.loc[table_df[\"type\"] == \"blood\", taxonomy_columns].sum(axis=0)\n",
    "blood_taxonomy_df = table_df.loc[table_df[\"type\"] == \"blood\", \n",
    "                                 sanitize_series(blood_sum_series).keys()]\n",
    "\n",
    "common_taxonomy_df = table_df.loc[:, [i for i in set(stool_taxonomy_df.columns) \n",
    "                                      if i in set(blood_taxonomy_df.columns)]]\n",
    "common_taxonomy_df.columns.name = \"taxa\""
   ],
   "metadata": {
    "collapsed": false,
    "pycharm": {
     "name": "#%%\n",
     "is_executing": false
    }
   }
  },
  {
   "cell_type": "code",
   "source": [
    "class DataHolder:\n",
    "    \"\"\"\n",
    "    Holds per-group data\n",
    "    \"\"\"\n",
    "    def __init__(self, indices: list, sample_type: str, diagnosis: str, age: str):\n",
    "        self.sample_type = sample_type\n",
    "        self.diagnosis = diagnosis\n",
    "        self.age = age  \n",
    "        self.indices = sorted(indices)\n",
    "        self.taxonomy_df = common_taxonomy_df.loc[self.indices, :].sort_index()\n",
    "        if self.sample_type.strip() == \"stool\":\n",
    "            self.edgecolors = \"blue\"\n",
    "        else:\n",
    "            self.edgecolors = \"red\"\n",
    "        if self.diagnosis.strip() == \"obesity\":\n",
    "            self.marker = \"s\"\n",
    "        elif diagnosis.strip() == \"colitis\":\n",
    "            self.marker = \"^\"\n",
    "        else:\n",
    "            self.marker = \"o\"\n",
    "        if self.age.strip() == \"child\":\n",
    "            self.facecolors = \"none\"\n",
    "        else:\n",
    "            self.facecolors = self.edgecolors\n",
    "        # More payload\n",
    "        self.words_dump = []\n",
    "        for sample_id in self.indices:\n",
    "            self.words_dump.extend(sanitize_series(\n",
    "                self.taxonomy_df.loc[[sample_id], :].sum(axis=0)).keys())\n",
    "        self.median_df = self.series_to_df(self.taxonomy_df.median(axis=0), \"taxa\", \"median\")\n",
    "        self.sum_df = self.series_to_df(self.taxonomy_df.sum(axis=0), \"taxa\", \"sum\")\n",
    "\n",
    "    @staticmethod\n",
    "    def series_to_df(series: pd.Series, key_column_name: str, value_column_name: str):\n",
    "        d = sanitize_series(series)\n",
    "        lst_ = [{key_column_name: k, value_column_name: d.get(k)} for k in d]\n",
    "        return dict_list_to_dataframe(lst_, key_column_name, value_column_name, sort=True)\n",
    "\n",
    "    def get_major_df(self, n: int = 50):\n",
    "        counter = Counter(self.words_dump)\n",
    "        # [('a', 0), ('b', 1), ('c', 2) ...]\n",
    "        out_df = pd.DataFrame([{\"word\": i[0], \"word_counts\": i[1]} \n",
    "                               for i in counter.most_common(n)]).sort_values(\n",
    "            \"word_counts\", ascending=False)\n",
    "        return out_df\n",
    "\n",
    "    def __str__(self):\n",
    "        return \"[{}]\".format(\", \".join([self.age, self.diagnosis, self.sample_type]))\n",
    "\n",
    "    def finalize_df(self, df: pd.DataFrame):\n",
    "        out_df = df.copy()\n",
    "        for col_name, value in zip([\"age\", \"diagnosis\", \"sample_type\"], \n",
    "                                   [self.age, self.diagnosis, self.sample_type]):\n",
    "            out_df[col_name] = value\n",
    "        return out_df\n",
    "    \n",
    "    def export(self):\n",
    "        Utilities.dump_tsv(self.get_major_df(999), os.path.join(\n",
    "            output_dir, \"majors_by_occurrence\", \"occurrence_only_positive_{}.tsv\".format(\n",
    "                str(self))))\n",
    "        if len(self.median_df.index) > 0:\n",
    "            Utilities.dump_tsv(self.median_df.reset_index(), os.path.join(\n",
    "                output_dir, \"majors by median\", \"positive median values for {}.tsv\".format(\n",
    "                    str(self))))\n",
    "        if len(self.sum_df.index) > 0:\n",
    "            Utilities.dump_tsv(self.sum_df.reset_index(), os.path.join(\n",
    "                output_dir, \"majors by sum\", \"positive sum values for {}.tsv\".format(str(self))))\n",
    "\n",
    "\n",
    "data_holders = []\n",
    "for diagnosis_ in set(table_df[\"diagnosis\"].values):\n",
    "    diagnosis_sub_df = table_df.loc[table_df[\"diagnosis\"] == diagnosis_]\n",
    "    for age_ in set(diagnosis_sub_df[\"age\"].values):\n",
    "        age_diagnosis_sub_df = diagnosis_sub_df.loc[diagnosis_sub_df[\"age\"] == age_]\n",
    "        for type_ in set(age_diagnosis_sub_df[\"type\"].values):\n",
    "            type_age_diagnosis_sub_df = age_diagnosis_sub_df.loc[\n",
    "                age_diagnosis_sub_df[\"type\"] == type_]\n",
    "            data_holders.append(DataHolder(indices=type_age_diagnosis_sub_df.index.values,\n",
    "                                           sample_type=type_, diagnosis=diagnosis_, age=age_))"
   ],
   "metadata": {
    "collapsed": false,
    "pycharm": {
     "name": "#%%\n",
     "is_executing": false
    }
   },
   "execution_count": 4,
   "outputs": []
  },
  {
   "cell_type": "code",
   "execution_count": 5,
   "outputs": [],
   "source": [
    "scaled_common_taxonomy_df = pd.DataFrame(StandardScaler().fit_transform(common_taxonomy_df), \n",
    "                                         columns=common_taxonomy_df.columns, \n",
    "                                         index=common_taxonomy_df.index)\n",
    "pca = PCA(n_components=2)\n",
    "pca_df = pd.DataFrame(pca.fit_transform(scaled_common_taxonomy_df), \n",
    "                      columns=[\"PCA {}\".format(i) for i in range(1, 3)], \n",
    "                      index=scaled_common_taxonomy_df.index)\n",
    "\n",
    "plt.rcParams[\"figure.figsize\"] = (28, 20)\n",
    "fig, ax = plt.subplots()\n",
    "ax.set_xlabel(\"Principal Component 1\", fontsize = 15)\n",
    "ax.set_ylabel(\"Principal Component 2\", fontsize = 15)\n",
    "ax.set_title(\"2-component PCA\", fontsize = 20)\n",
    "\n",
    "for data_holder in data_holders:\n",
    "    pca_x = pca_df.loc[data_holder.indices, [pca_df.columns[0]]].values\n",
    "    pca_y = pca_df.loc[data_holder.indices, [pca_df.columns[1]]].values\n",
    "    ax.scatter(facecolors=data_holder.facecolors, edgecolors=data_holder.edgecolors, \n",
    "               marker=data_holder.marker, label=str(data_holder), x=pca_x, y=pca_y)\n",
    "    for idx, txt in enumerate(data_holder.indices):\n",
    "        ax.annotate(txt, (pca_x[idx], pca_y[idx]), fontsize=\"xx-small\")\n",
    "    data_holder.export()\n",
    "\n",
    "ax.legend()\n",
    "ax.grid()\n",
    "\n",
    "plt.savefig(os.path.join(output_dir, \"blood_AND_stool_ONLY_positive_pca.png\"), dpi=300)\n",
    "plt.clf()\n",
    "plt.close()"
   ],
   "metadata": {
    "collapsed": false,
    "pycharm": {
     "name": "#%%\n",
     "is_executing": false
    }
   }
  },
  {
   "cell_type": "code",
   "execution_count": 6,
   "outputs": [],
   "source": [
    "SINGLE_COMPARISON_ALPHA = 0.05\n",
    "\n",
    "\n",
    "class DataHolderPair:\n",
    "    \"\"\"\n",
    "    Holds super-group data as DataHolders with the common diagnosis and age values\n",
    "    \"\"\"\n",
    "    def __init__(self, dh1: DataHolder, dh2: DataHolder):\n",
    "        self.data_holder_1, self.data_holder_2 = sorted([dh1, dh2], key=lambda x: x.sample_type)\n",
    "        self.diagnosis = self.data_holder_1.diagnosis\n",
    "        self.age = self.data_holder_1.age  \n",
    "        assert len(set(i.diagnosis for i in (self, *self.to_list()))) == 1\n",
    "        assert len(set(i.age for i in (self, *self.to_list()))) == 1\n",
    "        assert self.data_holder_1.sample_type != self.data_holder_2.sample_type\n",
    "        self.indices = tuple([i.indices for i in self.to_list()])\n",
    "        self.sample_types = tuple([i.sample_type for i in self.to_list()])\n",
    "        self.median_df = pd.concat([i.median_df.rename(columns={\"median\": i.sample_type}) \n",
    "                                    for i in self.to_list()], axis=1, sort=False).fillna(0)\n",
    "        self.median_df.index.names = [\"taxa\"]\n",
    "        self.median_df.columns.names = [\"sample_type\"]\n",
    "        self.sum_df = pd.concat([i.sum_df.rename(columns={\"sum\": i.sample_type}) \n",
    "                                 for i in self.to_list()], axis=1, sort=False).fillna(0)\n",
    "        self.sum_df.index.names = [\"taxa\"]\n",
    "        self.sum_df.columns.names = [\"sample_type\"]\n",
    "        medians = [i.median_df[\"median\"].sum() for i in self.to_list()]\n",
    "        sums = [i.sum_df[\"sum\"].sum() for i in self.to_list()]\n",
    "        self.u_test_df = pd.DataFrame()\n",
    "        self._make_u_test()\n",
    "        self.u_test_df[\"prevalent_by_median\"] = self.sample_types[medians.index(max(medians))]\n",
    "        self.u_test_df[\"prevalent_by_sum\"] = self.sample_types[sums.index(max(sums))]\n",
    "\n",
    "    def _make_u_test(self):\n",
    "        u_test_dicts = []\n",
    "        for taxon in common_taxonomy_df.columns:\n",
    "            taxon_values = [i.taxonomy_df.loc[:, taxon].values for i in self.to_list()]\n",
    "            u_test_dict = get_u_test_dict(taxon_values)\n",
    "            u_test_dict[\"taxa\"] = taxon\n",
    "            u_test_dicts.append(u_test_dict)\n",
    "        self.u_test_df = dict_list_to_dataframe(u_test_dicts, \"taxa\", \"p_values\")\n",
    "\n",
    "    def to_list(self):\n",
    "        return [self.data_holder_1, self.data_holder_2]\n",
    "    \n",
    "    def export(self):\n",
    "        out_dir = os.path.join(output_dir, \"paired_comparisons\", str(self))\n",
    "        Utilities.dump_tsv(self.median_df.reset_index(), \n",
    "                           os.path.join(out_dir, \"raw medians for {}.tsv\".format(str(self))))\n",
    "        Utilities.dump_tsv(self.sum_df.reset_index(), \n",
    "                           os.path.join(out_dir, \"raw sums for {}.tsv\".format(str(self))))\n",
    "        Utilities.dump_tsv(self.u_test_df.reset_index(), \n",
    "                           os.path.join(out_dir, \"single u-test for {}.tsv\".format(str(self))))\n",
    "        \n",
    "\n",
    "    def __eq__(self, other):\n",
    "      return other and all([i == j for i, j in zip(self.to_list(), other.to_list())])\n",
    "    \n",
    "    def __ne__(self, other):\n",
    "        return not self.__eq__(other)\n",
    "    \n",
    "    def __hash__(self):\n",
    "      return hash(self.to_list())\n",
    "    \n",
    "    def __str__(self):\n",
    "        return \" vs \".join([str(i) for i in self.to_list()])\n",
    "\n",
    "\n",
    "data_holder_pairs = []\n",
    "for data_holder_pair in [sorted([i, j], key=lambda x: x.sample_type) \n",
    "                         for i in data_holders for j in data_holders \n",
    "                            if i.diagnosis == j.diagnosis and i.age == j.age \n",
    "                            and i.sample_type != j.sample_type]:\n",
    "    if data_holder_pair not in [i.to_list() for i in data_holder_pairs]:\n",
    "        data_holder_pairs.append(DataHolderPair(*data_holder_pair))"
   ],
   "metadata": {
    "collapsed": false,
    "pycharm": {
     "name": "#%%\n",
     "is_executing": false
    }
   }
  },
  {
   "cell_type": "code",
   "execution_count": 7,
   "outputs": [],
   "source": [
    "for data_holder_pair in data_holder_pairs:\n",
    "    data_holder_pair.export()\n",
    "    for data_type, data_df in zip([\"median\", \"sum\"], \n",
    "                                  [data_holder_pair.median_df, data_holder_pair.sum_df]):\n",
    "        pair_correlation_df = data_holder_pair.sum_df.transpose().corr(method=\"spearman\")\n",
    "        pair_correlation_df = pair_correlation_df.sort_values(pair_correlation_df.columns[-1], \n",
    "                                                              axis=0).sort_values(\n",
    "            pair_correlation_df.index[-1], axis=1)\n",
    "        pair_correlation_title = \"Correlation between {} values for {}\".format(\n",
    "            data_type, str(data_holder_pair))\n",
    "        pair_correlation_prefix = os.path.join(output_dir, \"correlations\", \n",
    "                                               str(data_holder_pair), pair_correlation_title)\n",
    "        Utilities.dump_tsv(pair_correlation_df.reset_index(), \n",
    "                           \"{}.tsv\".format(pair_correlation_prefix))\n",
    "        sns.set()\n",
    "        plt.rcParams[\"figure.figsize\"] = (20, 20)\n",
    "        ax = sns.heatmap(pair_correlation_df)\n",
    "        _ = ax.set_title(pair_correlation_title, fontsize = 20)\n",
    "        ax.tick_params(labelsize=3)\n",
    "        plt.tight_layout()\n",
    "        plt.savefig(\"{}.png\".format(pair_correlation_prefix), dpi=300)\n",
    "        plt.clf()\n",
    "        plt.close()"
   ],
   "metadata": {
    "collapsed": false,
    "pycharm": {
     "name": "#%%\n",
     "is_executing": false
    }
   }
  },
  {
   "cell_type": "code",
   "execution_count": 8,
   "outputs": [],
   "source": [
    "PATIENT_ID_COL_NAME = \"N_human\"\n",
    "PATIENT_GROUP_PROPS = (\"diagnosis\", \"age\")\n",
    "\n",
    "distance_list = []\n",
    "for patient_id in set(table_df[PATIENT_ID_COL_NAME].values.tolist()):\n",
    "    patent_sub_df = table_df.loc[table_df[PATIENT_ID_COL_NAME] == patient_id, \n",
    "                                 common_taxonomy_df.columns]\n",
    "    assert len(patent_sub_df.index.values) == 2\n",
    "    distance_dict = dict(N_human=patient_id, samples=\",\".join(patent_sub_df.index.values), \n",
    "                         bray_curtis_dissimilarity=distance.braycurtis(*patent_sub_df.values), \n",
    "                         manhattan_distance=distance.cityblock(*patent_sub_df.values), \n",
    "                         euclidean_distance=distance.euclidean(*patent_sub_df.values))\n",
    "    for patient_group_property in PATIENT_GROUP_PROPS:\n",
    "        distance_dict[patient_group_property] = table_df.loc[\n",
    "            table_df[PATIENT_ID_COL_NAME] == patient_id, patient_group_property].values[0]\n",
    "    distance_list.append(distance_dict)\n",
    "distance_df = dict_list_to_dataframe(distance_list, PATIENT_ID_COL_NAME, \"samples\")\n",
    "\n",
    "distances_dir = os.path.join(output_dir, \"distances\")\n",
    "Utilities.dump_tsv(distance_df, os.path.join(distances_dir, \"distances.tsv\"))"
   ],
   "metadata": {
    "collapsed": false,
    "pycharm": {
     "name": "#%%\n",
     "is_executing": false
    }
   }
  },
  {
   "cell_type": "code",
   "execution_count": 9,
   "outputs": [],
   "source": [
    "DISTANCE_COLUMN_NAMES = (\"bray_curtis_dissimilarity\", \"manhattan_distance\", \"euclidean_distance\")\n",
    "\n",
    "for distance_column_name in DISTANCE_COLUMN_NAMES:\n",
    "    sns.set()\n",
    "    plt.rcParams[\"figure.figsize\"] = (10, 10)\n",
    "    # ax = sns.boxplot(data=distance_df, x=\"diagnosis\", y=distance_column_name, hue=\"age\")\n",
    "    ax = sns.boxplot(data=distance_df, x=\"age\", y=distance_column_name, hue=\"diagnosis\")\n",
    "    distance_boxplot_title = \"{} between {} samples per patient\".format(\n",
    "        distance_column_name, \" and \".join( set(table_df[\"type\"].values)))\n",
    "    _ = ax.set_title(distance_boxplot_title, fontsize = 20)\n",
    "    plt.tight_layout()\n",
    "    plt.savefig(\"{}.png\".format(os.path.join(distances_dir, distance_boxplot_title)), dpi=300)\n",
    "    plt.clf()\n",
    "    plt.close()\n"
   ],
   "metadata": {
    "collapsed": false,
    "pycharm": {
     "name": "#%%\n",
     "is_executing": false
    }
   }
  },
  {
   "cell_type": "code",
   "execution_count": 10,
   "outputs": [],
   "source": [
    "diagnosis_pairs = pair_flat_list(distance_df[\"diagnosis\"].values)\n",
    "for distance_column_name in DISTANCE_COLUMN_NAMES:\n",
    "    for age_group in set(distance_df[\"age\"].values):\n",
    "        diagnosis_by_distance_comparison_list = []\n",
    "        for diagnosis_pair in diagnosis_pairs:\n",
    "            diagnosis_pair_dict = dict(age=age_group, diagnoses=\" vs \".join(diagnosis_pair))\n",
    "            diagnosis_pair_dict.update(\n",
    "                get_u_test_dict(\n",
    "                    [distance_df.loc[(distance_df[\"age\"] == age_group) & (\n",
    "                            distance_df[\"diagnosis\"] == i)][distance_column_name].values \n",
    "                     for i in diagnosis_pair]))\n",
    "            diagnosis_by_distance_comparison_list.append(diagnosis_pair_dict)\n",
    "        diagnosis_by_distance_comparison_df = dict_list_to_dataframe(\n",
    "            diagnosis_by_distance_comparison_list, \"diagnoses\", \"age\", sort=True)\n",
    "        diagnosis_by_distance_comparison_df[\"is_significant_for_multi\"] = multitest.multipletests(\n",
    "            diagnosis_by_distance_comparison_df[\"p_values\"].values, alpha=SINGLE_COMPARISON_ALPHA, \n",
    "            method=\"fdr_bh\")[0]\n",
    "        Utilities.dump_tsv(diagnosis_by_distance_comparison_df.reset_index(), os.path.join(\n",
    "            distances_dir, \"comparisons\", \"diagnosis-based comparison of {} for {}.tsv\".format(\n",
    "                distance_column_name, age_group)))"
   ],
   "metadata": {
    "collapsed": false,
    "pycharm": {
     "name": "#%%\n",
     "is_executing": false
    }
   }
  }
 ],
 "metadata": {
  "kernelspec": {
   "display_name": "Python 3",
   "language": "python",
   "name": "python3"
  },
  "language_info": {
   "codemirror_mode": {
    "name": "ipython",
    "version": 2
   },
   "file_extension": ".py",
   "mimetype": "text/x-python",
   "name": "python",
   "nbconvert_exporter": "python",
   "pygments_lexer": "ipython2",
   "version": "2.7.6"
  },
  "pycharm": {
   "stem_cell": {
    "cell_type": "raw",
    "source": [
     "#!/usr/bin/env python3\n",
     "# -*- coding: utf-8 -*-\n"
    ],
    "metadata": {
     "collapsed": false
    }
   }
  }
 },
 "nbformat": 4,
 "nbformat_minor": 0
}