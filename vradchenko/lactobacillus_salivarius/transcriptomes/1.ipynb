{
 "cells": [
  {
   "cell_type": "code",
   "execution_count": 1,
   "metadata": {
    "collapsed": true,
    "pycharm": {
     "is_executing": false
    }
   },
   "outputs": [],
   "source": [
    "import os\n",
    "import json\n",
    "import pandas as pd\n",
    "from shutil import copy2\n",
    "from meta.scripts.Utilities import Utilities\n",
    "\n",
    "config = json.loads(Utilities.load_string(\"config.json\"))\n",
    "raw_reads = [i for i in Utilities.scan_whole_dir(config[\"input_dir\"]) if i.endswith(\".fastq.gz\")]"
   ]
  },
  {
   "cell_type": "code",
   "execution_count": 2,
   "outputs": [],
   "source": [
    "os.makedirs(config[\"output_dir\"], exist_ok=True)\n",
    "copied_reads = [copy2(i, os.path.join(config[\"output_dir\"], os.path.basename(i))) \n",
    "                for i in raw_reads]"
   ],
   "metadata": {
    "collapsed": false,
    "pycharm": {
     "name": "#%%\n",
     "is_executing": false
    }
   }
  },
  {
   "cell_type": "code",
   "execution_count": 3,
   "outputs": [],
   "source": [
    "similarities = Utilities.count_index_based_similarity(copied_reads)\n",
    "\n",
    "sampledata_dicts = []\n",
    "for sampledata_pair in [(k, similarities[k][0][0]) for k in similarities]:\n",
    "    if \"_R2_\" in sampledata_pair[0]:\n",
    "        continue\n",
    "    sampledata_dict = {\"filename{}\".format(i): os.path.basename(j) \n",
    "                       for i, j in zip((\"\", 2), sampledata_pair)}\n",
    "    sampledata_dict[\"sample_name\"] = Utilities.safe_findall(\n",
    "        \"^([^._]*)[._]\", sampledata_dict[\"filename\"])\n",
    "    sampledata_dicts.append(sampledata_dict)\n",
    "\n",
    "sampledata_df = pd.DataFrame(sampledata_dicts).set_index(\"sample_name\").rename(\n",
    "    index={\"6sq\": \"9sq\"}).sort_index()"
   ],
   "metadata": {
    "collapsed": false,
    "pycharm": {
     "name": "#%%\n",
     "is_executing": false
    }
   }
  },
  {
   "cell_type": "code",
   "execution_count": 4,
   "outputs": [],
   "source": [
    "submitted_sra_df = Utilities.load_tsv(\"../data/tables/sra.tsv\")\n",
    "\n",
    "new_sra_df = submitted_sra_df.loc[submitted_sra_df[\"library_ID\"].str.contains(\"_Nextera\"), \n",
    "                                  [i for i in submitted_sra_df.columns \n",
    "                                   if all(j.strip() != i for j in (\"filename\", \"filename2\"))]]\n",
    "new_sra_df.index = new_sra_df[\"library_ID\"].str.replace(\"_Nextera\", \"\", regex=False)\n",
    "new_sra_df = pd.concat([new_sra_df, sampledata_df], axis=1, sort=False)\n",
    "new_sra_df[\"title\"] = new_sra_df[\"title\"].str.replace(\"DNA Miseq-PE-WGS of \", \"RNA Miseq-PE-WTS of \", \n",
    "                                                      regex=False)\n",
    "new_sra_df[\"library_strategy\"] = \"RNA-Seq\"\n",
    "new_sra_df[\"library_source\"] = \"TRANSCRIPTOMIC\"\n",
    "new_sra_df = new_sra_df.loc[new_sra_df.index.isin(sampledata_df.index), \n",
    "                            submitted_sra_df.columns].drop(columns=[\"bioproject_accession\"])\n",
    "\n",
    "Utilities.dump_tsv(new_sra_df, os.path.join(os.getcwd(), \"data\", \"tables\", \"ncbi\", \"sra.tsv\"))"
   ],
   "metadata": {
    "collapsed": false,
    "pycharm": {
     "name": "#%%  Edit SRA Attributes \n",
     "is_executing": false
    }
   }
  }
 ],
 "metadata": {
  "kernelspec": {
   "display_name": "Python 3",
   "language": "python",
   "name": "python3"
  },
  "language_info": {
   "codemirror_mode": {
    "name": "ipython",
    "version": 2
   },
   "file_extension": ".py",
   "mimetype": "text/x-python",
   "name": "python",
   "nbconvert_exporter": "python",
   "pygments_lexer": "ipython2",
   "version": "2.7.6"
  },
  "pycharm": {
   "stem_cell": {
    "cell_type": "raw",
    "source": [],
    "metadata": {
     "collapsed": false
    }
   }
  }
 },
 "nbformat": 4,
 "nbformat_minor": 0
}