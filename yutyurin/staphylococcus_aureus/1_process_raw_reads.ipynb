{
 "cells": [
  {
   "cell_type": "code",
   "execution_count": 1,
   "metadata": {
    "collapsed": true,
    "pycharm": {
     "is_executing": false
    }
   },
   "outputs": [
    {
     "data": {
      "text/plain": "'Already up to date.'"
     },
     "metadata": {},
     "output_type": "execute_result",
     "execution_count": 1
    }
   ],
   "source": [
    "import subprocess\n",
    "import pandas as pd\n",
    "from meta.scripts.Utilities import Utilities\n",
    "from meta.scripts.sampledata import SampleDataArray\n",
    "from yutyurin.staphylococcus_aureus.ProjectDescriber import ProjectDescriber\n",
    "subprocess.getoutput(\"git pull\")"
   ]
  },
  {
   "cell_type": "code",
   "execution_count": 2,
   "outputs": [
    {
     "name": "stdout",
     "text": [
      "/data1/bio/projects/yutyurin/staphylococcus_aureus/sample_data/raw.sampledata\n"
     ],
     "output_type": "stream"
    }
   ],
   "source": [
    "sampledata_array = SampleDataArray.generate(\n",
    "    Utilities.get_most_similar_word_pairs(\n",
    "        Utilities.scan_whole_dir(ProjectDescriber.RAW_DATA_DIR)))\n",
    "sampledata_df = pd.concat([i.set_index(\"sample_name\") for i in (\n",
    "    sampledata_array.to_dataframe(), pd.DataFrame([{\"sample_name\": \"188staph\", \n",
    "                                                    \"taxa\": \"Staphylococcus aureus\"},]))], \n",
    "                          axis=1, sort=False).reset_index()\n",
    "\n",
    "Utilities.dump_tsv(sampledata_df, ProjectDescriber.SAMPLE_DATA_FILE)\n",
    "print(ProjectDescriber.SAMPLE_DATA_FILE)"
   ],
   "metadata": {
    "collapsed": false,
    "pycharm": {
     "name": "#%%\n",
     "is_executing": false
    }
   }
  }
 ],
 "metadata": {
  "kernelspec": {
   "display_name": "Python 3",
   "language": "python",
   "name": "python3"
  },
  "language_info": {
   "codemirror_mode": {
    "name": "ipython",
    "version": 2
   },
   "file_extension": ".py",
   "mimetype": "text/x-python",
   "name": "python",
   "nbconvert_exporter": "python",
   "pygments_lexer": "ipython2",
   "version": "2.7.6"
  },
  "pycharm": {
   "stem_cell": {
    "cell_type": "raw",
    "source": [],
    "metadata": {
     "collapsed": false
    }
   }
  }
 },
 "nbformat": 4,
 "nbformat_minor": 0
}