{
 "cells": [
  {
   "cell_type": "code",
   "execution_count": 1,
   "metadata": {
    "collapsed": true,
    "pycharm": {
     "is_executing": false
    }
   },
   "outputs": [],
   "source": [
    "import os\n",
    "import time\n",
    "import json\n",
    "import xlrd\n",
    "import pandas as pd\n",
    "from meta.scripts.Utilities import Utilities\n",
    "from yutyurin.staphylococcus_aureus.ProjectDescriber import ProjectDescriber"
   ]
  },
  {
   "cell_type": "code",
   "execution_count": 2,
   "outputs": [],
   "source": [
    "sample_data_2d_array = Utilities.load_2d_array(ProjectDescriber.SAMPLE_DATA_FILE)\n",
    "# Get it to JSON format\n",
    "sample_data_dict = {i: j for i, j in zip(*sample_data_2d_array)}\n",
    "sample_data_dict[\"raw_reads\"] = sample_data_dict[\"raw_reads\"].split(\";\")\n",
    "sample_data_dict = {sample_data_dict[\"sample_name\"]: sample_data_dict}\n",
    "\n",
    "assembly_file = \"/data1/bio/projects/yutyurin/staphylococcus_aureus/pga-pe/06_plasmid_merger/188staph/188staph_genome.fna\"\n",
    "state_dict = json.loads(Utilities.load_string(\"/data1/bio/projects/yutyurin/staphylococcus_aureus/pga-pe/state.json\"))\n",
    "\n",
    "assembly_statistics = Utilities.count_assembly_statistics(assembly_file)\n",
    "raw_reads_statistics = [Utilities.count_raw_reads_statistics(i, \"fastq_gz\") for i in list(sample_data_dict.values())[0][\"raw_reads\"]]\n",
    "\n",
    "combined_statistics = pd.concat([pd.DataFrame(raw_reads_statistics).set_index(\"file\").mean(), Utilities.dict2pd_series(assembly_statistics)], axis=0, sort=False)\n",
    "combined_statistics[\"file\"] = os.path.basename(combined_statistics[\"file\"])"
   ],
   "metadata": {
    "collapsed": false,
    "pycharm": {
     "name": "#%%\n",
     "is_executing": false
    }
   }
  },
  {
   "cell_type": "code",
   "execution_count": 3,
   "outputs": [],
   "source": [
    "blast_first_result_dict = list(json.loads(Utilities.load_string(\"/data1/bio/projects/yutyurin/staphylococcus_aureus/pga-pe/06_plasmid_merger/188staph/blast/188staph_genome_blast_results.json\")).values())[0]\n",
    "blast_first_result_genbank = Utilities.parse_sequences(\"/data1/bio/projects/yutyurin/staphylococcus_aureus/pga-pe/06_plasmid_merger/188staph/genbank/{}.gbk\".format(blast_first_result_dict[\"geninfo_id\"]), \"genbank\")[0]\n",
    "\n",
    "combined_statistics[\"reference_title\"] = blast_first_result_dict[\"title\"]\n",
    "combined_statistics[\"reference_total_bp\"] = len(blast_first_result_genbank)\n",
    "combined_statistics = pd.concat([combined_statistics, Utilities.dict2pd_series(\n",
    "    Utilities.count_assembly_coverages(combined_statistics[\"total_reads_bp\"], \n",
    "                                       combined_statistics[\"total_contigs_bp\"], \n",
    "                                       combined_statistics[\"reference_total_bp\"]))], axis=0, sort=False)\n",
    "\n",
    "Utilities.dump_tsv(pd.DataFrame(combined_statistics).transpose(), os.path.join(os.path.dirname(assembly_file), \"coverage.tsv\"))"
   ],
   "metadata": {
    "collapsed": false,
    "pycharm": {
     "name": "#%%\n",
     "is_executing": false
    }
   }
  },
  {
   "cell_type": "code",
   "execution_count": 4,
   "outputs": [],
   "source": [
    "submission_dict = {\n",
    "    \"Assembly date\": time.strftime(\"%m-%d-%Y\", time.gmtime(os.path.getmtime(assembly_file))), \n",
    "    \"Assembly method\": \"SPAdes\", \n",
    "    \"Version or date program was run\": Utilities.remove_empty_values(\n",
    "         [Utilities.safe_findall(\"\\\\\\'([^ ]+)\\\\\\'\", j, report=False) for j in [i for i in Utilities.load_list(\n",
    "             \"/data1/bio/projects/yutyurin/staphylococcus_aureus/pga-pe/log/2021-03-15-18-46-36/main.log\") \n",
    "                                                                 if \"spades:\" in i]])[0],\n",
    "    \"Assembly name\": list(sample_data_dict.values())[0][\"sample_name\"],\n",
    "    \"Genome coverage\": combined_statistics[\"expected_assembly_coverage\"],\n",
    "    \"Sequencing technology\": \"Illumina MiSeq\",\n",
    "    \"Submission title\": \"Staphylococcus aureus isolated from the skin of a child with atopic eczema (atopic dermatitis)\",\n",
    "    \"Public description\": \"\"\"The Staphylococcus aureus isolate was collected from the skin surface  of a child suffering from atopic eczema (atopic dermatitis).\n",
    "The microorganism samples are available from the dedicated collection of the Federal Budgetary Science Institute KNIIEM (Kazan, Russia) and the State Collection of Pathogenic Microorganisms and Cell Cultures Obolensk (Serpukhov, Russia), accession number KZ-188.   \n",
    "The draft genome sequencing of this isolate was performed in 2017 as part of a dissertation research work at the KNIIEM Institute. \n",
    "The isolate was reported as resistant to cephalosporins, macrolides and penicillins.\"\"\", \n",
    "    \"Relevance\": \"Medical\",\n",
    "    \"(Optional) Filter packages by organism name\": \"Staphylococcus aureus\",\n",
    "    \"NCBI packages\": \"Pathogen: clinical or host-associated\",\n",
    "    \"Bacteria and/or source DNA is available from\": \"The State Collection of Pathogenic Microorganisms and Cell Cultures Obolensk (Territory \\\"Kvartal A\\\", d. 24, r.p. Obolensk, g. Serpukhov, Moscow region, 142279), accession number KZ-188\"\n",
    " }\n",
    "\n",
    "submission_dir = os.path.join(ProjectDescriber.ROOT_DIR, \"ncbi\")\n",
    "submission_df = pd.DataFrame([submission_dict])\n",
    "Utilities.dump_tsv(submission_df, os.path.join(submission_dir, \"submission_form_values.tsv\"))"
   ],
   "metadata": {
    "collapsed": false,
    "pycharm": {
     "name": "#%%\n",
     "is_executing": false
    }
   }
  },
  {
   "cell_type": "code",
   "execution_count": 5,
   "outputs": [],
   "source": [
    "# Antibiogram data start from the cell 18 for Excel\n",
    "antibiogram_df = pd.read_excel(os.path.join(submission_dir, \"Antibiogram_Staph188.xlsx\"), sheet_name=\"antibiogram\", header=17)\n",
    "Utilities.dump_tsv(antibiogram_df, os.path.join(submission_dir, \"antibiogram.tsv\"))\n",
    "\n",
    "# Pathogen data start from the cell 13 for Excel\n",
    "pathogen_df = pd.read_excel(os.path.join(submission_dir, \"Pathogen_Staph188.xlsx\"), sheet_name=\"Pathogen.cl.1.0\", header=12)\n",
    "Utilities.dump_tsv(pathogen_df, os.path.join(submission_dir, \"pathogen.tsv\"))"
   ],
   "metadata": {
    "collapsed": false,
    "pycharm": {
     "name": "#%%\n",
     "is_executing": false
    }
   }
  }
 ],
 "metadata": {
  "kernelspec": {
   "display_name": "Python 3",
   "language": "python",
   "name": "python3"
  },
  "language_info": {
   "codemirror_mode": {
    "name": "ipython",
    "version": 2
   },
   "file_extension": ".py",
   "mimetype": "text/x-python",
   "name": "python",
   "nbconvert_exporter": "python",
   "pygments_lexer": "ipython2",
   "version": "2.7.6"
  },
  "pycharm": {
   "stem_cell": {
    "cell_type": "raw",
    "source": [],
    "metadata": {
     "collapsed": false
    }
   }
  }
 },
 "nbformat": 4,
 "nbformat_minor": 0
}