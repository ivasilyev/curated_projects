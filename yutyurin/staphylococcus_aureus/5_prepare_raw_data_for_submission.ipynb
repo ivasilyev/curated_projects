{
 "cells": [
  {
   "cell_type": "code",
   "execution_count": 1,
   "metadata": {
    "collapsed": true,
    "pycharm": {
     "is_executing": false
    }
   },
   "outputs": [],
   "source": [
    "import os\n",
    "import re\n",
    "import xlrd\n",
    "import pandas as pd\n",
    "from io import StringIO\n",
    "from meta.scripts.Utilities import Utilities\n",
    "from yutyurin.staphylococcus_aureus.ProjectDescriber import ProjectDescriber"
   ]
  },
  {
   "cell_type": "code",
   "execution_count": 2,
   "outputs": [],
   "source": [
    "submission_email_str = \"\"\"\n",
    "SUBID     \tBioProject\tBioSample\tAccession\tOrganism\n",
    "---------------------------------------------------\n",
    "SUB9351353\tPRJNA717172\tSAMN18489519\tJAGGIM000000000\tStaphylococcus aureus KZ_188\n",
    "\"\"\"\n",
    "submission_email_df =  Utilities.load_tsv(StringIO(re.sub(\"[-]{2,}\", \"\", submission_email_str)))\n",
    "submission_dir = os.path.join(ProjectDescriber.ROOT_DIR, \"ncbi\")\n",
    "\n",
    "# SRA data start from the cell 1, sheet 2 for Excel\n",
    "sra_metadata_template_df = pd.read_excel(os.path.join(submission_dir, \"SRA_metadata_acc.xlsx\"), sheet_name=\"SRA_data\", header=0)\n",
    "pathogen_df = Utilities.load_tsv(os.path.join(submission_dir, \"pathogen.tsv\"))"
   ],
   "metadata": {
    "collapsed": false,
    "pycharm": {
     "name": "#%%\n",
     "is_executing": false
    }
   }
  },
  {
   "cell_type": "code",
   "execution_count": 3,
   "outputs": [],
   "source": [
    "# Parse sample data\n",
    "sample_data_2d_array = Utilities.load_2d_array(ProjectDescriber.SAMPLE_DATA_FILE)\n",
    "# Get it to JSON format\n",
    "sample_data_dict = {i: j for i, j in zip(*sample_data_2d_array)}\n",
    "sample_data_dict[\"raw_reads\"] = sample_data_dict[\"raw_reads\"].split(\";\")\n",
    "sample_data_dict = {sample_data_dict[\"sample_name\"]: sample_data_dict}"
   ],
   "metadata": {
    "collapsed": false,
    "pycharm": {
     "name": "#%%\n",
     "is_executing": false
    }
   }
  },
  {
   "cell_type": "code",
   "execution_count": 4,
   "outputs": [],
   "source": [
    "row_number = 0\n",
    "sra_dict = {\n",
    "    \"biosample_accession\": submission_email_df.loc[row_number, \"BioSample\"],\n",
    "    \"library_ID\": list(sample_data_dict.values())[row_number][\"sample_name\"],\n",
    "    \"title\": \"DNA Miseq-PE-WGS of {}: {}, {}\".format(\n",
    "        submission_email_df.loc[row_number, \"Organism\"], pathogen_df.loc[0, \"*host\"], \n",
    "        pathogen_df.loc[0, \"*isolation_source\"]),\n",
    "    \"library_strategy\": \"WGS\",\n",
    "    \"library_source\": \"GENOMIC\",\n",
    "    \"library_selection\": \"RANDOM\",\n",
    "    \"library_layout\": \"paired\",\n",
    "    \"platform\": \"ILLUMINA\",\n",
    "    \"instrument_model\": \"Illumina MiSeq\",\n",
    "    \"design_description\": \"The libraries were prepared using the Nextera XT kit and run on a 500-cycle protocol into 250-bp lanes without deviations or shearing of DNA\",\n",
    "    \"filetype\": \"fastq\",\n",
    "    \"filename\": os.path.basename(list(sample_data_dict.values())[row_number][\"raw_reads\"][0]),\n",
    "    \"filename2\": os.path.basename(list(sample_data_dict.values())[row_number][\"raw_reads\"][1])}\n",
    "\n",
    "sra_df = pd.concat([sra_metadata_template_df, pd.DataFrame(Utilities.dict2pd_series(sra_dict)).transpose()], axis=0, sort=False)\n",
    "Utilities.dump_tsv(sra_df, os.path.join(submission_dir, \"sra.tsv\"))\n"
   ],
   "metadata": {
    "collapsed": false,
    "pycharm": {
     "name": "#%%\n",
     "is_executing": false
    }
   }
  }
 ],
 "metadata": {
  "kernelspec": {
   "display_name": "Python 3",
   "language": "python",
   "name": "python3"
  },
  "language_info": {
   "codemirror_mode": {
    "name": "ipython",
    "version": 2
   },
   "file_extension": ".py",
   "mimetype": "text/x-python",
   "name": "python",
   "nbconvert_exporter": "python",
   "pygments_lexer": "ipython2",
   "version": "2.7.6"
  },
  "pycharm": {
   "stem_cell": {
    "cell_type": "raw",
    "source": [],
    "metadata": {
     "collapsed": false
    }
   }
  }
 },
 "nbformat": 4,
 "nbformat_minor": 0
}